{
 "cells": [
  {
   "cell_type": "code",
   "execution_count": 3,
   "metadata": {},
   "outputs": [
    {
     "data": {
      "application/vnd.jupyter.widget-view+json": {
       "model_id": "c09c5b6216604b06a742f5bab9dfdbd9",
       "version_major": 2,
       "version_minor": 0
      },
      "text/plain": [
       "VBox(children=(Text(value='1'), Text(value='2')))"
      ]
     },
     "metadata": {},
     "output_type": "display_data"
    },
    {
     "data": {
      "application/vnd.jupyter.widget-view+json": {
       "model_id": "b08c1ba7a6e842f3b7690365388fe913",
       "version_major": 2,
       "version_minor": 0
      },
      "text/plain": [
       "Button(description='Add', style=ButtonStyle())"
      ]
     },
     "metadata": {},
     "output_type": "display_data"
    },
    {
     "data": {
      "application/vnd.jupyter.widget-view+json": {
       "model_id": "67183fa5444c4c4f98a54a14f6d6c766",
       "version_major": 2,
       "version_minor": 0
      },
      "text/plain": [
       "VBox(children=(HBox(children=(Label(value='Fixed image'), Label(value='Moving image'))), HBox(children=(Label(…"
      ]
     },
     "metadata": {},
     "output_type": "display_data"
    },
    {
     "data": {
      "application/vnd.jupyter.widget-view+json": {
       "model_id": "c5abd210a233473a874cc577281addb7",
       "version_major": 2,
       "version_minor": 0
      },
      "text/plain": [
       "FileUpload(value={}, accept='image/*,.nrrd,.mha,.nii', description='Upload')"
      ]
     },
     "metadata": {},
     "output_type": "display_data"
    },
    {
     "data": {
      "application/vnd.jupyter.widget-view+json": {
       "model_id": "9ecf29ee3e2a4a679c688fde37db44c7",
       "version_major": 2,
       "version_minor": 0
      },
      "text/plain": [
       "FileUpload(value={}, accept='image/*,.nrrd,.mha,.nii', description='Upload')"
      ]
     },
     "metadata": {},
     "output_type": "display_data"
    },
    {
     "data": {
      "application/vnd.jupyter.widget-view+json": {
       "model_id": "7d69441f47e84957b3ac3d41ab3f4b27",
       "version_major": 2,
       "version_minor": 0
      },
      "text/plain": [
       "Button(description='Load and view', style=ButtonStyle())"
      ]
     },
     "metadata": {},
     "output_type": "display_data"
    },
    {
     "data": {
      "application/vnd.jupyter.widget-view+json": {
       "model_id": "c427931ad22447a4a42779fbd3ee3e31",
       "version_major": 2,
       "version_minor": 0
      },
      "text/plain": [
       "Output(layout=Layout(border='2px solid blue'))"
      ]
     },
     "metadata": {},
     "output_type": "display_data"
    },
    {
     "data": {
      "application/vnd.jupyter.widget-view+json": {
       "model_id": "6d598757c24a4601845a5648e4f11822",
       "version_major": 2,
       "version_minor": 0
      },
      "text/plain": [
       "Button(description='View checkerboard', style=ButtonStyle())"
      ]
     },
     "metadata": {},
     "output_type": "display_data"
    },
    {
     "data": {
      "application/vnd.jupyter.widget-view+json": {
       "model_id": "4088e14d94774831ac8142a7c08ea5cb",
       "version_major": 2,
       "version_minor": 0
      },
      "text/plain": [
       "RadioButtons(description='Type:', options=('rigid', 'affine', 'bspline'), value='rigid')"
      ]
     },
     "metadata": {},
     "output_type": "display_data"
    },
    {
     "data": {
      "application/vnd.jupyter.widget-view+json": {
       "model_id": "6572de480f234db685b0cd094fdd80d7",
       "version_major": 2,
       "version_minor": 0
      },
      "text/plain": [
       "Button(description='Register and view', style=ButtonStyle())"
      ]
     },
     "metadata": {},
     "output_type": "display_data"
    }
   ],
   "source": [
    "import ipywidgets as wg\n",
    "from ipywidgets import Layout\n",
    "from IPython.display import display\n",
    "\n",
    "vb = wg.VBox([wg.Text('1'),wg.Text('2')])\n",
    "btn = wg.Button(description = 'Add') \n",
    "\n",
    "def on_bttn_clicked(b):        \n",
    "    vb.children=tuple(list(vb.children) + [wg.Text('3')]) \n",
    "\n",
    "btn.on_click(on_bttn_clicked)\n",
    "display(vb, btn)\n",
    "\n",
    "list(vb.children)\n",
    "\n",
    "\n",
    "import itk\n",
    "from itkwidgets import view, compare, checkerboard\n",
    "from itkwidgets.widget_viewer import Viewer\n",
    "import ipywidgets\n",
    "from ipywidgets import Button, Label, HBox, VBox\n",
    "import os\n",
    "\n",
    "# viewerFixed = Viewer(image=None)\n",
    "# viewerMoving = Viewer(image=None)\n",
    "top_box=HBox([Label('Fixed image'), Label('Moving image')])\n",
    "# in_box=HBox([viewerFixed, viewerMoving])\n",
    "mid_box=HBox([Label('Checkerboard before'), Label('Checkerboard after')])\n",
    "# out_box=HBox([viewerFixed, viewerMoving])\n",
    "imageViews = VBox([top_box, mid_box])\n",
    "\n",
    "display(imageViews)\n",
    "\n",
    "# these FileUpload widgets have maximum size\n",
    "# controlled via jupyter_notebook_config.py\n",
    "# https://github.com/jupyter-widgets/ipywidgets/issues/2522\n",
    "fixedUploader = ipywidgets.FileUpload(\n",
    "    accept='image/*,.nrrd,.mha,.nii',\n",
    "    multiple=False\n",
    ")\n",
    "display(fixedUploader)\n",
    "\n",
    "movingUploader = ipywidgets.FileUpload(\n",
    "    accept='image/*,.nrrd,.mha,.nii',\n",
    "    multiple=False\n",
    ")\n",
    "display(movingUploader)\n",
    "\n",
    "viewButton = ipywidgets.Button(description=\"Load and view\")\n",
    "display(viewButton)\n",
    "\n",
    "appState={'fixed':None, 'moving':None}\n",
    "out = ipywidgets.Output(layout={'border': '2px solid blue'})\n",
    "display(out)\n",
    "\n",
    "def viewImages(b):\n",
    "    movingButton=Button(description='Moving Updated')\n",
    "    \n",
    "    # write to temporary image file\n",
    "    # I don't know how to read image from memory in Python\n",
    "    # using FileUpload's syntax for ipywidgets <= 7\n",
    "    tempFilename=\"./fixed_\"+ next(iter(fixedUploader.value))\n",
    "    with open(tempFilename, \"wb\") as fp:\n",
    "        fp.write(fixedUploader.data[0])\n",
    "    appState['fixed'] = itk.imread(tempFilename, itk.F)\n",
    "    os.remove(tempFilename)\n",
    "    # viewerFixed.image=appState['fixed']\n",
    "\n",
    "    tempFilename=\"./moving_\"+ next(iter(movingUploader.value))\n",
    "    with open(tempFilename, \"wb\") as fp:\n",
    "        fp.write(movingUploader.data[0])\n",
    "    appState['moving'] = itk.imread(tempFilename, itk.F)\n",
    "    os.remove(tempFilename)\n",
    "    \n",
    "    out.clear_output(wait=True)\n",
    "    # with out:\n",
    "    compareWidget=compare(appState['fixed'],\n",
    "                          appState['moving'],\n",
    "                          link_cmap=True,\n",
    "                          link_gradient_opacity=True)\n",
    "    imageViews.children=tuple(list(imageViews.children) + [compareWidget])\n",
    "    #display(compareWidget)\n",
    "\n",
    "viewButton.on_click(viewImages)\n",
    "\n",
    "checkerboardButton = ipywidgets.Button(description=\"View checkerboard\")\n",
    "display(checkerboardButton)\n",
    "\n",
    "def checkerboardImages(b):  \n",
    "    display(checkerboard(appState['fixed'], appState['moving'], ui_collapsed=False))\n",
    "\n",
    "checkerboardButton.on_click(checkerboardImages)\n",
    "\n",
    "regType=ipywidgets.RadioButtons(\n",
    "    options=['rigid', 'affine', 'bspline'],\n",
    "    value='rigid', # Defaults to 'pineapple'\n",
    "    description='Type:',\n",
    "    disabled=False\n",
    ")\n",
    "display(regType)\n",
    "\n",
    "registerButton = ipywidgets.Button(description=\"Register and view\")\n",
    "display(registerButton)\n",
    "\n",
    "\n",
    "def registerImages(b):\n",
    "    out.clear_output(wait=True)\n",
    "    parameters = itk.ParameterObject.New()\n",
    "\n",
    "    resolutions = 3\n",
    "    default_rigid = parameters.GetDefaultParameterMap(\"rigid\", resolutions)\n",
    "    parameters.AddParameterMap(default_rigid)\n",
    "\n",
    "    if (regType.value!='rigid'):\n",
    "        resolutions = 2\n",
    "        default_affine = parameters.GetDefaultParameterMap(\"affine\", resolutions)\n",
    "        parameters.AddParameterMap(default_affine)\n",
    "\n",
    "    if (regType.value=='bspline'):\n",
    "        resolutions = 1\n",
    "        default_bspline = parameters.GetDefaultParameterMap(\"bspline\", resolutions)\n",
    "        parameters.AddParameterMap(default_bspline)\n",
    "\n",
    "    parameters.RemoveParameter(\"ResultImageFormat\")\n",
    "    with out:\n",
    "        print('Executing '+regType.value+' registration. Please wait...')\n",
    "    \n",
    "    registered_moving = itk.elastix_registration_method(appState['fixed'], appState['moving'], parameter_object=parameters)\n",
    "    display(checkerboard(appState['fixed'], registered_moving))\n",
    "    out.clear_output()\n",
    "\n",
    "registerButton.on_click(registerImages)"
   ]
  },
  {
   "cell_type": "code",
   "execution_count": null,
   "metadata": {},
   "outputs": [],
   "source": []
  }
 ],
 "metadata": {
  "kernelspec": {
   "display_name": "Python 3",
   "language": "python",
   "name": "python3"
  },
  "language_info": {
   "codemirror_mode": {
    "name": "ipython",
    "version": 3
   },
   "file_extension": ".py",
   "mimetype": "text/x-python",
   "name": "python",
   "nbconvert_exporter": "python",
   "pygments_lexer": "ipython3",
   "version": "3.5.4"
  }
 },
 "nbformat": 4,
 "nbformat_minor": 4
}
