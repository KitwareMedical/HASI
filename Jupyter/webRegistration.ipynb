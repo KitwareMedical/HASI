{
 "cells": [
  {
   "cell_type": "markdown",
   "metadata": {},
   "source": [
    "# Hello Registration World!"
   ]
  },
  {
   "cell_type": "code",
   "execution_count": 3,
   "metadata": {},
   "outputs": [],
   "source": [
    "import itk\n",
    "from itkwidgets import view, compare, checkerboard\n",
    "import ipywidgets\n",
    "import os"
   ]
  },
  {
   "cell_type": "markdown",
   "metadata": {},
   "source": [
    "**Image registration** finds the *spatial transformation that aligns images in the presence of noise*.\n",
    "First, let's load our **fixed image** and the image we will align to our fixed image, the **moving image**."
   ]
  },
  {
   "cell_type": "markdown",
   "metadata": {},
   "source": [
    "Fixed image:"
   ]
  },
  {
   "cell_type": "code",
   "execution_count": 4,
   "metadata": {},
   "outputs": [
    {
     "data": {
      "application/vnd.jupyter.widget-view+json": {
       "model_id": "cee9d5319efb4b61a20477a41ae13c41",
       "version_major": 2,
       "version_minor": 0
      },
      "text/plain": [
       "FileUpload(value={}, accept='image/*,.nrrd,.mha,.nii', description='Upload')"
      ]
     },
     "metadata": {},
     "output_type": "display_data"
    }
   ],
   "source": [
    "# these FileUpload widgets support up to 10MB files\n",
    "# https://github.com/jupyter-widgets/ipywidgets/issues/2522\n",
    "fixedUploader = ipywidgets.FileUpload(\n",
    "    accept='image/*,.nrrd,.mha,.nii',\n",
    "    multiple=False\n",
    ")\n",
    "display(fixedUploader)"
   ]
  },
  {
   "cell_type": "markdown",
   "metadata": {},
   "source": [
    "Moving image:"
   ]
  },
  {
   "cell_type": "code",
   "execution_count": 5,
   "metadata": {},
   "outputs": [
    {
     "data": {
      "application/vnd.jupyter.widget-view+json": {
       "model_id": "ca9a13feef284b3dbd3fa572067bc6c3",
       "version_major": 2,
       "version_minor": 0
      },
      "text/plain": [
       "FileUpload(value={}, accept='image/*,.nrrd,.mha,.nii', description='Upload')"
      ]
     },
     "metadata": {},
     "output_type": "display_data"
    }
   ],
   "source": [
    "movingUploader = ipywidgets.FileUpload(\n",
    "    accept='image/*,.nrrd,.mha,.nii',\n",
    "    multiple=False\n",
    ")\n",
    "display(movingUploader)"
   ]
  },
  {
   "cell_type": "code",
   "execution_count": 16,
   "metadata": {},
   "outputs": [
    {
     "data": {
      "application/vnd.jupyter.widget-view+json": {
       "model_id": "d21b56a77d9a4f389f23acceb7c0f757",
       "version_major": 2,
       "version_minor": 0
      },
      "text/plain": [
       "Button(description='Load and view', style=ButtonStyle())"
      ]
     },
     "metadata": {},
     "output_type": "display_data"
    },
    {
     "data": {
      "application/vnd.jupyter.widget-view+json": {
       "model_id": "634704e17c3c420cbf837c3b928a238c",
       "version_major": 2,
       "version_minor": 0
      },
      "text/plain": [
       "AppLayout(children=(Viewer(layout=Layout(grid_area='left-sidebar'), rendered_image=<itkImagePython.itkImageF2;…"
      ]
     },
     "metadata": {},
     "output_type": "display_data"
    }
   ],
   "source": [
    "viewButton = ipywidgets.Button(description=\"Load and view\")\n",
    "display(viewButton)\n",
    "\n",
    "def viewImages(b):\n",
    "    # write to temporary image file\n",
    "    # I don't know how to read image from memory in Python\n",
    "    # using FileUpload's syntax for ipywidgets <= 7\n",
    "    tempFilename=\"./fixed_\"+ next(iter(fixedUploader.value))\n",
    "    with open(tempFilename, \"wb\") as fp:\n",
    "        fp.write(fixedUploader.data[0])\n",
    "    fixed = itk.imread(tempFilename, itk.F)\n",
    "    os.remove(tempFilename)\n",
    "\n",
    "    tempFilename=\"./moving_\"+ next(iter(movingUploader.value))\n",
    "    with open(tempFilename, \"wb\") as fp:\n",
    "        fp.write(movingUploader.data[0])\n",
    "    moving = itk.imread(tempFilename, itk.F)\n",
    "    os.remove(tempFilename)\n",
    "    \n",
    "    display(compare(fixed, moving, link_cmap=True, link_gradient_opacity=True))\n",
    "\n",
    "viewButton.on_click(viewImages)"
   ]
  },
  {
   "cell_type": "markdown",
   "metadata": {},
   "source": [
    "Before registration, the moving image is not aligned with the fixed image."
   ]
  },
  {
   "cell_type": "code",
   "execution_count": 18,
   "metadata": {},
   "outputs": [
    {
     "data": {
      "application/vnd.jupyter.widget-view+json": {
       "model_id": "4dbbe2a6992d42c3af5726eb88e5338c",
       "version_major": 2,
       "version_minor": 0
      },
      "text/plain": [
       "Button(description='View checkerboard', style=ButtonStyle())"
      ]
     },
     "metadata": {},
     "output_type": "display_data"
    },
    {
     "data": {
      "application/vnd.jupyter.widget-view+json": {
       "model_id": "ff724aad032a4f418f78159d1aa69349",
       "version_major": 2,
       "version_minor": 0
      },
      "text/plain": [
       "VBox(children=(Viewer(annotations=False, interpolation=False, mode='z', rendered_image=<itkImagePython.itkImag…"
      ]
     },
     "metadata": {},
     "output_type": "display_data"
    }
   ],
   "source": [
    "checkerboardButton = ipywidgets.Button(description=\"View checkerboard\")\n",
    "display(checkerboardButton)\n",
    "\n",
    "def checkerboardImages(b):  \n",
    "    display(checkerboard(fixed, moving, mode='z', ui_collapsed=False))\n",
    "\n",
    "checkerboardButton.on_click(checkerboardImages)"
   ]
  },
  {
   "cell_type": "code",
   "execution_count": 19,
   "metadata": {},
   "outputs": [
    {
     "data": {
      "application/vnd.jupyter.widget-view+json": {
       "model_id": "acb3a04151f946cfae91c25737d74e0f",
       "version_major": 2,
       "version_minor": 0
      },
      "text/plain": [
       "Button(description='Register and view', style=ButtonStyle())"
      ]
     },
     "metadata": {},
     "output_type": "display_data"
    },
    {
     "ename": "AttributeError",
     "evalue": "module 'Elastix' has no attribute 'swig'",
     "output_type": "error",
     "traceback": [
      "\u001b[1;31m---------------------------------------------------------------------------\u001b[0m",
      "\u001b[1;31mAttributeError\u001b[0m                            Traceback (most recent call last)",
      "\u001b[1;32m<ipython-input-19-f72ed3184983>\u001b[0m in \u001b[0;36mregisterImages\u001b[1;34m(b)\u001b[0m\n\u001b[0;32m      3\u001b[0m \u001b[1;33m\u001b[0m\u001b[0m\n\u001b[0;32m      4\u001b[0m \u001b[1;32mdef\u001b[0m \u001b[0mregisterImages\u001b[0m\u001b[1;33m(\u001b[0m\u001b[0mb\u001b[0m\u001b[1;33m)\u001b[0m\u001b[1;33m:\u001b[0m\u001b[1;33m\u001b[0m\u001b[0m\n\u001b[1;32m----> 5\u001b[1;33m     \u001b[0mregistered_moving\u001b[0m \u001b[1;33m=\u001b[0m \u001b[0mitk\u001b[0m\u001b[1;33m.\u001b[0m\u001b[0melastix_registration_method\u001b[0m\u001b[1;33m(\u001b[0m\u001b[0mfixed\u001b[0m\u001b[1;33m,\u001b[0m \u001b[0mmoving\u001b[0m\u001b[1;33m)\u001b[0m\u001b[1;33m\u001b[0m\u001b[0m\n\u001b[0m\u001b[0;32m      6\u001b[0m     \u001b[0mdisplay\u001b[0m\u001b[1;33m(\u001b[0m\u001b[0mcheckerboard\u001b[0m\u001b[1;33m(\u001b[0m\u001b[0mfixed\u001b[0m\u001b[1;33m,\u001b[0m \u001b[0mregistered_moving\u001b[0m\u001b[1;33m,\u001b[0m \u001b[0mmode\u001b[0m\u001b[1;33m=\u001b[0m\u001b[1;34m'z'\u001b[0m\u001b[1;33m,\u001b[0m \u001b[0mui_collapsed\u001b[0m\u001b[1;33m=\u001b[0m\u001b[1;32mFalse\u001b[0m\u001b[1;33m)\u001b[0m\u001b[1;33m)\u001b[0m\u001b[1;33m\u001b[0m\u001b[0m\n\u001b[0;32m      7\u001b[0m \u001b[1;33m\u001b[0m\u001b[0m\n",
      "\u001b[1;32mc:\\dev\\hasi\\jupyter\\e2\\lib\\site-packages\\itkLazy.py\u001b[0m in \u001b[0;36m__getattribute__\u001b[1;34m(self, attr)\u001b[0m\n\u001b[0;32m     50\u001b[0m             \u001b[0mmodule\u001b[0m \u001b[1;33m=\u001b[0m \u001b[0mself\u001b[0m\u001b[1;33m.\u001b[0m\u001b[0m__belong_lazy_attributes\u001b[0m\u001b[1;33m[\u001b[0m\u001b[0mattr\u001b[0m\u001b[1;33m]\u001b[0m\u001b[1;33m\u001b[0m\u001b[0m\n\u001b[0;32m     51\u001b[0m             \u001b[0mnamespace\u001b[0m \u001b[1;33m=\u001b[0m \u001b[1;33m{\u001b[0m\u001b[1;33m}\u001b[0m\u001b[1;33m\u001b[0m\u001b[0m\n\u001b[1;32m---> 52\u001b[1;33m             \u001b[0mitkBase\u001b[0m\u001b[1;33m.\u001b[0m\u001b[0mLoadModule\u001b[0m\u001b[1;33m(\u001b[0m\u001b[0mmodule\u001b[0m\u001b[1;33m,\u001b[0m \u001b[0mnamespace\u001b[0m\u001b[1;33m)\u001b[0m\u001b[1;33m\u001b[0m\u001b[0m\n\u001b[0m\u001b[0;32m     53\u001b[0m             \u001b[0mself\u001b[0m\u001b[1;33m.\u001b[0m\u001b[0mloaded_lazy_modules\u001b[0m\u001b[1;33m.\u001b[0m\u001b[0madd\u001b[0m\u001b[1;33m(\u001b[0m\u001b[0mmodule\u001b[0m\u001b[1;33m)\u001b[0m\u001b[1;33m\u001b[0m\u001b[0m\n\u001b[0;32m     54\u001b[0m             \u001b[1;32mfor\u001b[0m \u001b[0mk\u001b[0m\u001b[1;33m,\u001b[0m \u001b[0mv\u001b[0m \u001b[1;32min\u001b[0m \u001b[0mnamespace\u001b[0m\u001b[1;33m.\u001b[0m\u001b[0mitems\u001b[0m\u001b[1;33m(\u001b[0m\u001b[1;33m)\u001b[0m\u001b[1;33m:\u001b[0m\u001b[1;33m\u001b[0m\u001b[0m\n",
      "\u001b[1;32mc:\\dev\\hasi\\jupyter\\e2\\lib\\site-packages\\itkBase.py\u001b[0m in \u001b[0;36mLoadModule\u001b[1;34m(name, namespace)\u001b[0m\n\u001b[0;32m     51\u001b[0m         \u001b[1;32mif\u001b[0m \u001b[0mnamespace\u001b[0m \u001b[1;32mis\u001b[0m \u001b[1;32mnot\u001b[0m \u001b[1;32mNone\u001b[0m\u001b[1;33m:\u001b[0m\u001b[1;33m\u001b[0m\u001b[0m\n\u001b[0;32m     52\u001b[0m             \u001b[0mswig\u001b[0m \u001b[1;33m=\u001b[0m \u001b[0mnamespace\u001b[0m\u001b[1;33m.\u001b[0m\u001b[0msetdefault\u001b[0m\u001b[1;33m(\u001b[0m\u001b[1;34m'swig'\u001b[0m\u001b[1;33m,\u001b[0m \u001b[0mtypes\u001b[0m\u001b[1;33m.\u001b[0m\u001b[0mModuleType\u001b[0m\u001b[1;33m(\u001b[0m\u001b[1;34m'swig'\u001b[0m\u001b[1;33m)\u001b[0m\u001b[1;33m)\u001b[0m\u001b[1;33m\u001b[0m\u001b[0m\n\u001b[1;32m---> 53\u001b[1;33m             \u001b[0mswig\u001b[0m\u001b[1;33m.\u001b[0m\u001b[0m__dict__\u001b[0m\u001b[1;33m.\u001b[0m\u001b[0mupdate\u001b[0m\u001b[1;33m(\u001b[0m\u001b[0mthis_module\u001b[0m\u001b[1;33m.\u001b[0m\u001b[0mswig\u001b[0m\u001b[1;33m.\u001b[0m\u001b[0m__dict__\u001b[0m\u001b[1;33m)\u001b[0m\u001b[1;33m\u001b[0m\u001b[0m\n\u001b[0m\u001b[0;32m     54\u001b[0m \u001b[1;33m\u001b[0m\u001b[0m\n\u001b[0;32m     55\u001b[0m             \u001b[1;31m# don't worry about overwriting the symbols in namespace -- any\u001b[0m\u001b[1;33m\u001b[0m\u001b[1;33m\u001b[0m\u001b[0m\n",
      "\u001b[1;31mAttributeError\u001b[0m: module 'Elastix' has no attribute 'swig'"
     ]
    }
   ],
   "source": [
    "registerButton = ipywidgets.Button(description=\"Register and view\")\n",
    "display(registerButton)\n",
    "\n",
    "def registerImages(b):\n",
    "    registered_moving = itk.elastix_registration_method(fixed, moving)\n",
    "    display(checkerboard(fixed, registered_moving, mode='z', ui_collapsed=False))\n",
    "\n",
    "registerButton.on_click(registerImages)"
   ]
  }
 ],
 "metadata": {
  "kernelspec": {
   "display_name": "Python 3",
   "language": "python",
   "name": "python3"
  },
  "language_info": {
   "codemirror_mode": {
    "name": "ipython",
    "version": 3
   },
   "file_extension": ".py",
   "mimetype": "text/x-python",
   "name": "python",
   "nbconvert_exporter": "python",
   "pygments_lexer": "ipython3",
   "version": "3.5.4"
  }
 },
 "nbformat": 4,
 "nbformat_minor": 4
}
