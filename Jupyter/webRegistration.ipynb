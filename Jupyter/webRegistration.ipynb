{
 "cells": [
  {
   "cell_type": "markdown",
   "metadata": {},
   "source": [
    "# Hello Registration World!"
   ]
  },
  {
   "cell_type": "code",
   "execution_count": 45,
   "metadata": {},
   "outputs": [],
   "source": [
    "import itk\n",
    "from itkwidgets import view, compare, checkerboard\n",
    "import ipywidgets\n",
    "import os"
   ]
  },
  {
   "cell_type": "markdown",
   "metadata": {},
   "source": [
    "**Image registration** finds the *spatial transformation that aligns images in the presence of noise*.\n",
    "First, let's load our **fixed image** and the image we will align to our fixed image, the **moving image**."
   ]
  },
  {
   "cell_type": "markdown",
   "metadata": {},
   "source": [
    "Fixed image:"
   ]
  },
  {
   "cell_type": "code",
   "execution_count": 46,
   "metadata": {},
   "outputs": [
    {
     "data": {
      "application/vnd.jupyter.widget-view+json": {
       "model_id": "cf352e824d284922aca68bdaba24d968",
       "version_major": 2,
       "version_minor": 0
      },
      "text/plain": [
       "FileUpload(value={}, accept='image/*,.nrrd,.mha,.nii', description='Upload')"
      ]
     },
     "metadata": {},
     "output_type": "display_data"
    }
   ],
   "source": [
    "# these FileUpload widgets have maximum size\n",
    "# controlled via jupyter_notebook_config.py\n",
    "# https://github.com/jupyter-widgets/ipywidgets/issues/2522\n",
    "fixedUploader = ipywidgets.FileUpload(\n",
    "    accept='image/*,.nrrd,.mha,.nii',\n",
    "    multiple=False\n",
    ")\n",
    "display(fixedUploader)"
   ]
  },
  {
   "cell_type": "markdown",
   "metadata": {},
   "source": [
    "Moving image:"
   ]
  },
  {
   "cell_type": "code",
   "execution_count": 47,
   "metadata": {},
   "outputs": [
    {
     "data": {
      "application/vnd.jupyter.widget-view+json": {
       "model_id": "0adb9015af864507b685fdd3f58f3e8c",
       "version_major": 2,
       "version_minor": 0
      },
      "text/plain": [
       "FileUpload(value={}, accept='image/*,.nrrd,.mha,.nii', description='Upload')"
      ]
     },
     "metadata": {},
     "output_type": "display_data"
    }
   ],
   "source": [
    "movingUploader = ipywidgets.FileUpload(\n",
    "    accept='image/*,.nrrd,.mha,.nii',\n",
    "    multiple=False\n",
    ")\n",
    "display(movingUploader)"
   ]
  },
  {
   "cell_type": "code",
   "execution_count": 48,
   "metadata": {},
   "outputs": [
    {
     "data": {
      "application/vnd.jupyter.widget-view+json": {
       "model_id": "01b9d2ca144e47748ee80ce041d8e19d",
       "version_major": 2,
       "version_minor": 0
      },
      "text/plain": [
       "Button(description='Load and view', style=ButtonStyle())"
      ]
     },
     "metadata": {},
     "output_type": "display_data"
    }
   ],
   "source": [
    "viewButton = ipywidgets.Button(description=\"Load and view\")\n",
    "display(viewButton)\n",
    "\n",
    "appState={'fixed':None, 'moving':None}\n",
    "\n",
    "def viewImages(b):\n",
    "    # write to temporary image file\n",
    "    # I don't know how to read image from memory in Python\n",
    "    # using FileUpload's syntax for ipywidgets <= 7\n",
    "    tempFilename=\"./fixed_\"+ next(iter(fixedUploader.value))\n",
    "    with open(tempFilename, \"wb\") as fp:\n",
    "        fp.write(fixedUploader.data[0])\n",
    "    appState['fixed'] = itk.imread(tempFilename, itk.F)\n",
    "    os.remove(tempFilename)\n",
    "\n",
    "    tempFilename=\"./moving_\"+ next(iter(movingUploader.value))\n",
    "    with open(tempFilename, \"wb\") as fp:\n",
    "        fp.write(movingUploader.data[0])\n",
    "    appState['moving'] = itk.imread(tempFilename, itk.F)\n",
    "    os.remove(tempFilename)\n",
    "    \n",
    "    display(compare(appState['fixed'], appState['moving'], link_cmap=True, link_gradient_opacity=True))\n",
    "\n",
    "viewButton.on_click(viewImages)"
   ]
  },
  {
   "cell_type": "markdown",
   "metadata": {},
   "source": [
    "Before registration, the moving image is not aligned with the fixed image."
   ]
  },
  {
   "cell_type": "code",
   "execution_count": 49,
   "metadata": {},
   "outputs": [
    {
     "data": {
      "application/vnd.jupyter.widget-view+json": {
       "model_id": "1bf54045c4704f17977d9a99e10fce4c",
       "version_major": 2,
       "version_minor": 0
      },
      "text/plain": [
       "Button(description='View checkerboard', style=ButtonStyle())"
      ]
     },
     "metadata": {},
     "output_type": "display_data"
    }
   ],
   "source": [
    "checkerboardButton = ipywidgets.Button(description=\"View checkerboard\")\n",
    "display(checkerboardButton)\n",
    "\n",
    "def checkerboardImages(b):  \n",
    "    display(checkerboard(appState['fixed'], appState['moving'], ui_collapsed=False))\n",
    "\n",
    "checkerboardButton.on_click(checkerboardImages)"
   ]
  },
  {
   "cell_type": "code",
   "execution_count": 50,
   "metadata": {},
   "outputs": [
    {
     "data": {
      "application/vnd.jupyter.widget-view+json": {
       "model_id": "df1d3c1ee93244c6bc8d11687f1abb27",
       "version_major": 2,
       "version_minor": 0
      },
      "text/plain": [
       "RadioButtons(description='Type:', options=('rigid', 'affine', 'bspline'), value='rigid')"
      ]
     },
     "metadata": {},
     "output_type": "display_data"
    },
    {
     "data": {
      "application/vnd.jupyter.widget-view+json": {
       "model_id": "2bca7deeceae4224933874c48baeec46",
       "version_major": 2,
       "version_minor": 0
      },
      "text/plain": [
       "Button(description='Register and view', style=ButtonStyle())"
      ]
     },
     "metadata": {},
     "output_type": "display_data"
    },
    {
     "data": {
      "application/vnd.jupyter.widget-view+json": {
       "model_id": "00b5ff1ae89c4bcab0a12ccee0dca32d",
       "version_major": 2,
       "version_minor": 0
      },
      "text/plain": [
       "Output()"
      ]
     },
     "metadata": {},
     "output_type": "display_data"
    }
   ],
   "source": [
    "regType=ipywidgets.RadioButtons(\n",
    "    options=['rigid', 'affine', 'bspline'],\n",
    "    value='rigid', # Defaults to 'pineapple'\n",
    "    description='Type:',\n",
    "    disabled=False\n",
    ")\n",
    "display(regType)\n",
    "\n",
    "registerButton = ipywidgets.Button(description=\"Register and view\")\n",
    "display(registerButton)\n",
    "\n",
    "out = ipywidgets.Output()\n",
    "display(out)\n",
    "\n",
    "def registerImages(b):\n",
    "    out.clear_output(wait=True)\n",
    "    parameters = itk.ParameterObject.New()\n",
    "\n",
    "    resolutions = 3\n",
    "    default_rigid = parameters.GetDefaultParameterMap(\"rigid\", resolutions)\n",
    "    parameters.AddParameterMap(default_rigid)\n",
    "\n",
    "    if (regType.value!='rigid'):\n",
    "        resolutions = 2\n",
    "        default_affine = parameters.GetDefaultParameterMap(\"affine\", resolutions)\n",
    "        parameters.AddParameterMap(default_affine)\n",
    "\n",
    "    if (regType.value=='bspline'):\n",
    "        resolutions = 1\n",
    "        default_bspline = parameters.GetDefaultParameterMap(\"bspline\", resolutions)\n",
    "        parameters.AddParameterMap(default_bspline)\n",
    "\n",
    "    parameters.RemoveParameter(\"ResultImageFormat\")\n",
    "    with out:\n",
    "        print('Executing '+regType.value+' registration. Please wait...')\n",
    "    \n",
    "    registered_moving = itk.elastix_registration_method(appState['fixed'], appState['moving'], parameter_object=parameters)\n",
    "    display(checkerboard(appState['fixed'], registered_moving))\n",
    "    out.clear_output()\n",
    "\n",
    "registerButton.on_click(registerImages)"
   ]
  },
  {
   "cell_type": "code",
   "execution_count": null,
   "metadata": {},
   "outputs": [],
   "source": []
  }
 ],
 "metadata": {
  "kernelspec": {
   "display_name": "Python 3",
   "language": "python",
   "name": "python3"
  },
  "language_info": {
   "codemirror_mode": {
    "name": "ipython",
    "version": 3
   },
   "file_extension": ".py",
   "mimetype": "text/x-python",
   "name": "python",
   "nbconvert_exporter": "python",
   "pygments_lexer": "ipython3",
   "version": "3.5.4"
  }
 },
 "nbformat": 4,
 "nbformat_minor": 4
}
