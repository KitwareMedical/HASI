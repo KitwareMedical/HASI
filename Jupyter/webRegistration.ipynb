{
 "cells": [
  {
   "cell_type": "code",
   "execution_count": 12,
   "metadata": {},
   "outputs": [
    {
     "data": {
      "application/vnd.jupyter.widget-view+json": {
       "model_id": "a9e6938ac42e479f86713b8d4bed5da0",
       "version_major": 2,
       "version_minor": 0
      },
      "text/plain": [
       "HBox(children=(VBox(children=(Label(value='Fixed image'), FileUpload(value={}, accept='.nrrd,.mha,.nii,image/*…"
      ]
     },
     "metadata": {},
     "output_type": "display_data"
    },
    {
     "data": {
      "application/vnd.jupyter.widget-view+json": {
       "model_id": "4dbec751b1084d068c1016f8eaa0fa2c",
       "version_major": 2,
       "version_minor": 0
      },
      "text/plain": [
       "Output()"
      ]
     },
     "metadata": {},
     "output_type": "display_data"
    },
    {
     "data": {
      "application/vnd.jupyter.widget-view+json": {
       "model_id": "8f7ffc8b9dd042069b9ec6a42beb2d0f",
       "version_major": 2,
       "version_minor": 0
      },
      "text/plain": [
       "HBox(children=(Button(description='Load and view', style=ButtonStyle()), RadioButtons(description='Type:', opt…"
      ]
     },
     "metadata": {},
     "output_type": "display_data"
    }
   ],
   "source": [
    "import itk\n",
    "from itkwidgets import view, compare, checkerboard\n",
    "from itkwidgets.widget_viewer import Viewer\n",
    "import ipywidgets\n",
    "from ipywidgets import Button, Label, HBox, VBox\n",
    "import os\n",
    "\n",
    "# these FileUpload widgets have maximum file size\n",
    "# controlled via jupyter_notebook_config.py\n",
    "# https://github.com/jupyter-widgets/ipywidgets/issues/2522\n",
    "fixedUploader = ipywidgets.FileUpload(\n",
    "    accept='.nrrd,.mha,.nii,image/*',\n",
    "    multiple=False)\n",
    "movingUploader = ipywidgets.FileUpload(\n",
    "    accept='.nrrd,.mha,.nii,image/*',\n",
    "    multiple=False)\n",
    "\n",
    "\n",
    "vboxFixed = VBox([Label('Fixed image'), fixedUploader, Viewer()])\n",
    "vboxMoving = VBox([Label('Moving image'), movingUploader, Viewer()])\n",
    "vboxResult = VBox([Label('Result image'), Label(' '), Viewer()])\n",
    "imageViews = HBox([vboxFixed, vboxMoving, vboxResult])\n",
    "display(imageViews)\n",
    "\n",
    "appState={'fixed':None, 'moving':None}\n",
    "out = ipywidgets.Output()\n",
    "display(out)\n",
    "\n",
    "viewButton = ipywidgets.Button(description=\"Load and view\")\n",
    "regType=ipywidgets.RadioButtons(\n",
    "    options=['rigid', 'affine', 'bspline'],\n",
    "    value='rigid', # Defaults to 'pineapple'\n",
    "    description='Type:',\n",
    "    disabled=False\n",
    ")\n",
    "registerButton = ipywidgets.Button(description=\"Register and view\")\n",
    "buttons = HBox([viewButton, regType, registerButton])\n",
    "display(buttons)\n",
    "\n",
    "\n",
    "def viewImages(b):\n",
    "    movingButton=Button(description='Moving Updated')\n",
    "    \n",
    "    # write to temporary image file\n",
    "    # I don't know how to read image from memory in Python\n",
    "    \n",
    "    # using FileUpload's syntax for ipywidgets <= 7\n",
    "    tempFilename=\"./fixed_\"+ next(iter(fixedUploader.value))\n",
    "    with open(tempFilename, \"wb\") as fp:\n",
    "        fp.write(fixedUploader.data[0])\n",
    "    appState['fixed'] = itk.imread(tempFilename, itk.F)\n",
    "    os.remove(tempFilename)\n",
    "\n",
    "    tempFilename=\"./moving_\"+ next(iter(movingUploader.value))\n",
    "    with open(tempFilename, \"wb\") as fp:\n",
    "        fp.write(movingUploader.data[0])\n",
    "    appState['moving'] = itk.imread(tempFilename, itk.F)\n",
    "    os.remove(tempFilename)\n",
    "    \n",
    "    \n",
    "    vboxFixed=imageViews.children[0]\n",
    "    vboxFixed.children=(vboxFixed.children[0],\n",
    "                        vboxFixed.children[1],\n",
    "                        Viewer(image=appState['fixed']))\n",
    "    \n",
    "    vboxMoving=imageViews.children[1]\n",
    "    vboxMoving.children=(vboxMoving.children[0],\n",
    "                        vboxMoving.children[1],\n",
    "                        Viewer(image=appState['moving']))\n",
    "    \n",
    "    vboxResult=imageViews.children[2]\n",
    "    vboxResult.children=(Label('Fixed/moving'),\n",
    "                        Label('checkerboard'),\n",
    "                        checkerboard(appState['fixed'], appState['moving']))\n",
    "    \n",
    "    imageViews.children=(vboxFixed,\n",
    "                        vboxMoving,\n",
    "                        vboxResult)\n",
    "    \n",
    "    out.clear_output(wait=True)\n",
    "    # with out:\n",
    "#     compareWidget=compare(appState['fixed'],\n",
    "#                           appState['moving'],\n",
    "#                           link_cmap=True,\n",
    "#                           link_gradient_opacity=True)\n",
    "\n",
    "viewButton.on_click(viewImages)\n",
    "\n",
    "def registerImages(b):\n",
    "    out.clear_output(wait=True)\n",
    "    parameters = itk.ParameterObject.New()\n",
    "\n",
    "    resolutions = 3\n",
    "    default_rigid = parameters.GetDefaultParameterMap(\"rigid\", resolutions)\n",
    "    parameters.AddParameterMap(default_rigid)\n",
    "\n",
    "    if (regType.value!='rigid'):\n",
    "        resolutions = 2\n",
    "        default_affine = parameters.GetDefaultParameterMap(\"affine\", resolutions)\n",
    "        parameters.AddParameterMap(default_affine)\n",
    "\n",
    "    if (regType.value=='bspline'):\n",
    "        resolutions = 1\n",
    "        default_bspline = parameters.GetDefaultParameterMap(\"bspline\", resolutions)\n",
    "        parameters.AddParameterMap(default_bspline)\n",
    "\n",
    "    parameters.RemoveParameter(\"ResultImageFormat\")\n",
    "    with out:\n",
    "        print('Executing '+regType.value+' registration. Please wait...')\n",
    "    \n",
    "    registered_moving = itk.elastix_registration_method(appState['fixed'], appState['moving'], parameter_object=parameters)\n",
    "    \n",
    "    vboxResult=imageViews.children[2]\n",
    "    vboxResult.children=(Label('Fixed/registered'),\n",
    "                        vboxResult.children[1],\n",
    "                        checkerboard(appState['fixed'], registered_moving))\n",
    "    \n",
    "    imageViews.children=(imageViews.children[0],\n",
    "                        imageViews.children[1],\n",
    "                        vboxResult)\n",
    "    \n",
    "    # display(checkerboard(appState['fixed'], registered_moving))\n",
    "    out.clear_output()\n",
    "\n",
    "registerButton.on_click(registerImages)"
   ]
  }
 ],
 "metadata": {
  "kernelspec": {
   "display_name": "Python 3",
   "language": "python",
   "name": "python3"
  },
  "language_info": {
   "codemirror_mode": {
    "name": "ipython",
    "version": 3
   },
   "file_extension": ".py",
   "mimetype": "text/x-python",
   "name": "python",
   "nbconvert_exporter": "python",
   "pygments_lexer": "ipython3",
   "version": "3.5.4"
  }
 },
 "nbformat": 4,
 "nbformat_minor": 4
}
