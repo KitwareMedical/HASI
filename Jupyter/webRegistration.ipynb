{
 "cells": [
  {
   "cell_type": "code",
   "execution_count": 1,
   "metadata": {},
   "outputs": [],
   "source": [
    "import itk\n",
    "from itkwidgets import view, compare, checkerboard\n",
    "import ipywidgets\n",
    "import os"
   ]
  },
  {
   "cell_type": "markdown",
   "metadata": {},
   "source": [
    "**Image registration** finds the *spatial transformation that aligns images in the presence of noise*.\n",
    "First, let's load our **fixed image** and the image we will align to our fixed image, the **moving image**."
   ]
  },
  {
   "cell_type": "markdown",
   "metadata": {},
   "source": [
    "Fixed image:"
   ]
  },
  {
   "cell_type": "code",
   "execution_count": 2,
   "metadata": {},
   "outputs": [
    {
     "data": {
      "application/vnd.jupyter.widget-view+json": {
       "model_id": "0c9effeafd3a40cf8a1a2921f077a26b",
       "version_major": 2,
       "version_minor": 0
      },
      "text/plain": [
       "FileUpload(value={}, accept='image/*,.nrrd,.mha,.nii', description='Upload')"
      ]
     },
     "metadata": {},
     "output_type": "display_data"
    }
   ],
   "source": [
    "# these FileUpload widgets have maximum size\n",
    "# controlled via jupyter_notebook_config.py\n",
    "# https://github.com/jupyter-widgets/ipywidgets/issues/2522\n",
    "fixedUploader = ipywidgets.FileUpload(\n",
    "    accept='image/*,.nrrd,.mha,.nii',\n",
    "    multiple=False\n",
    ")\n",
    "display(fixedUploader)"
   ]
  },
  {
   "cell_type": "markdown",
   "metadata": {},
   "source": [
    "Moving image:"
   ]
  },
  {
   "cell_type": "code",
   "execution_count": 3,
   "metadata": {},
   "outputs": [
    {
     "data": {
      "application/vnd.jupyter.widget-view+json": {
       "model_id": "5bec67095a3048af9ccd6a8ca96c9381",
       "version_major": 2,
       "version_minor": 0
      },
      "text/plain": [
       "FileUpload(value={}, accept='image/*,.nrrd,.mha,.nii', description='Upload')"
      ]
     },
     "metadata": {},
     "output_type": "display_data"
    }
   ],
   "source": [
    "movingUploader = ipywidgets.FileUpload(\n",
    "    accept='image/*,.nrrd,.mha,.nii',\n",
    "    multiple=False\n",
    ")\n",
    "display(movingUploader)"
   ]
  },
  {
   "cell_type": "code",
   "execution_count": 4,
   "metadata": {},
   "outputs": [
    {
     "data": {
      "application/vnd.jupyter.widget-view+json": {
       "model_id": "1039af18e71343f19b781b0749194440",
       "version_major": 2,
       "version_minor": 0
      },
      "text/plain": [
       "Button(description='Load and view', style=ButtonStyle())"
      ]
     },
     "metadata": {},
     "output_type": "display_data"
    }
   ],
   "source": [
    "viewButton = ipywidgets.Button(description=\"Load and view\")\n",
    "display(viewButton)\n",
    "\n",
    "appState={'fixed':None, 'moving':None}\n",
    "\n",
    "def viewImages(b):\n",
    "    # write to temporary image file\n",
    "    # I don't know how to read image from memory in Python\n",
    "    # using FileUpload's syntax for ipywidgets <= 7\n",
    "    tempFilename=\"./fixed_\"+ next(iter(fixedUploader.value))\n",
    "    with open(tempFilename, \"wb\") as fp:\n",
    "        fp.write(fixedUploader.data[0])\n",
    "    appState['fixed'] = itk.imread(tempFilename, itk.F)\n",
    "    os.remove(tempFilename)\n",
    "\n",
    "    tempFilename=\"./moving_\"+ next(iter(movingUploader.value))\n",
    "    with open(tempFilename, \"wb\") as fp:\n",
    "        fp.write(movingUploader.data[0])\n",
    "    appState['moving'] = itk.imread(tempFilename, itk.F)\n",
    "    os.remove(tempFilename)\n",
    "    \n",
    "    display(compare(appState['fixed'], appState['moving'], link_cmap=True, link_gradient_opacity=True))\n",
    "\n",
    "viewButton.on_click(viewImages)"
   ]
  },
  {
   "cell_type": "markdown",
   "metadata": {},
   "source": [
    "Before registration, the moving image is not aligned with the fixed image."
   ]
  },
  {
   "cell_type": "code",
   "execution_count": 5,
   "metadata": {},
   "outputs": [
    {
     "data": {
      "application/vnd.jupyter.widget-view+json": {
       "model_id": "49ef8c576cc24f0081f93d6342bbd918",
       "version_major": 2,
       "version_minor": 0
      },
      "text/plain": [
       "Button(description='View checkerboard', style=ButtonStyle())"
      ]
     },
     "metadata": {},
     "output_type": "display_data"
    }
   ],
   "source": [
    "checkerboardButton = ipywidgets.Button(description=\"View checkerboard\")\n",
    "display(checkerboardButton)\n",
    "\n",
    "def checkerboardImages(b):  \n",
    "    display(checkerboard(appState['fixed'], appState['moving'], ui_collapsed=False))\n",
    "\n",
    "checkerboardButton.on_click(checkerboardImages)"
   ]
  },
  {
   "cell_type": "code",
   "execution_count": 6,
   "metadata": {},
   "outputs": [
    {
     "data": {
      "application/vnd.jupyter.widget-view+json": {
       "model_id": "cdfcd828046a4617a4e5d85e4333e8ce",
       "version_major": 2,
       "version_minor": 0
      },
      "text/plain": [
       "RadioButtons(description='Type:', options=('rigid', 'affine', 'bspline'), value='rigid')"
      ]
     },
     "metadata": {},
     "output_type": "display_data"
    },
    {
     "data": {
      "application/vnd.jupyter.widget-view+json": {
       "model_id": "8747cb27a8ee493997a4715c658cf52b",
       "version_major": 2,
       "version_minor": 0
      },
      "text/plain": [
       "Button(description='Register and view', style=ButtonStyle())"
      ]
     },
     "metadata": {},
     "output_type": "display_data"
    },
    {
     "data": {
      "application/vnd.jupyter.widget-view+json": {
       "model_id": "d515d98c66054f809b0a1b4189bae743",
       "version_major": 2,
       "version_minor": 0
      },
      "text/plain": [
       "Output()"
      ]
     },
     "metadata": {},
     "output_type": "display_data"
    }
   ],
   "source": [
    "regType=ipywidgets.RadioButtons(\n",
    "    options=['rigid', 'affine', 'bspline'],\n",
    "    value='rigid', # Defaults to 'pineapple'\n",
    "    description='Type:',\n",
    "    disabled=False\n",
    ")\n",
    "display(regType)\n",
    "\n",
    "registerButton = ipywidgets.Button(description=\"Register and view\")\n",
    "display(registerButton)\n",
    "\n",
    "out = ipywidgets.Output()\n",
    "display(out)\n",
    "\n",
    "def registerImages(b):\n",
    "    out.clear_output(wait=True)\n",
    "    parameters = itk.ParameterObject.New()\n",
    "\n",
    "    resolutions = 3\n",
    "    default_rigid = parameters.GetDefaultParameterMap(\"rigid\", resolutions)\n",
    "    parameters.AddParameterMap(default_rigid)\n",
    "\n",
    "    if (regType.value!='rigid'):\n",
    "        resolutions = 2\n",
    "        default_affine = parameters.GetDefaultParameterMap(\"affine\", resolutions)\n",
    "        parameters.AddParameterMap(default_affine)\n",
    "\n",
    "    if (regType.value=='bspline'):\n",
    "        resolutions = 1\n",
    "        default_bspline = parameters.GetDefaultParameterMap(\"bspline\", resolutions)\n",
    "        parameters.AddParameterMap(default_bspline)\n",
    "\n",
    "    parameters.RemoveParameter(\"ResultImageFormat\")\n",
    "    with out:\n",
    "        print('Executing '+regType.value+' registration. Please wait...')\n",
    "    \n",
    "    registered_moving = itk.elastix_registration_method(appState['fixed'], appState['moving'], parameter_object=parameters)\n",
    "    display(checkerboard(appState['fixed'], registered_moving))\n",
    "    out.clear_output()\n",
    "\n",
    "registerButton.on_click(registerImages)"
   ]
  }
 ],
 "metadata": {
  "kernelspec": {
   "display_name": "Python 3",
   "language": "python",
   "name": "python3"
  },
  "language_info": {
   "codemirror_mode": {
    "name": "ipython",
    "version": 3
   },
   "file_extension": ".py",
   "mimetype": "text/x-python",
   "name": "python",
   "nbconvert_exporter": "python",
   "pygments_lexer": "ipython3",
   "version": "3.5.4"
  }
 },
 "nbformat": 4,
 "nbformat_minor": 4
}
