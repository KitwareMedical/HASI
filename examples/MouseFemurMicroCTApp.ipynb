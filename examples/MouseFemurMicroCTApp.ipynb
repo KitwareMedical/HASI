{
 "cells": [
  {
   "cell_type": "markdown",
   "metadata": {},
   "source": [
    "# HASI Mouse Femur MicroCT Metaphysis Morphometry Features"
   ]
  },
  {
   "cell_type": "code",
   "execution_count": 1,
   "metadata": {},
   "outputs": [],
   "source": [
    "from urllib.request import urlretrieve\n",
    "import os\n",
    "from pathlib import Path\n",
    "\n",
    "import itk\n",
    "import numpy as np\n",
    "\n",
    "from itkwidgets import view, cm\n",
    "from ipywidgets import FloatProgress, Label, HBox, VBox, FloatText, ColorPicker, Button, Select, Text, Tab"
   ]
  },
  {
   "cell_type": "code",
   "execution_count": 2,
   "metadata": {},
   "outputs": [],
   "source": [
    "# I/O configuration\n",
    "\n",
    "inputs_images_dir = Path('input_images')\n",
    "landmarks_dir = Path('landmarks')\n",
    "if not landmarks_dir.exists():\n",
    "    landmarks_dir.mkdir()\n",
    "output_images_dir = Path('output_images')\n",
    "if not output_images_dir.exists():\n",
    "    output_images_dir.mkdir()\n",
    "output_features_dir = Path('output_features')\n",
    "if not output_features_dir.exists():\n",
    "    output_features_dir.mkdir()\n",
    "atlas_dir = Path('atlas')\n",
    "if not atlas_dir.exists():\n",
    "    atlas_dir.mkdir()"
   ]
  },
  {
   "cell_type": "code",
   "execution_count": 3,
   "metadata": {},
   "outputs": [],
   "source": [
    "# Viewer configuration\n",
    "\n",
    "camera = np.array([[-8.23076   , 16.761303  , 41.647186  ],\n",
    "       [ 4.855     ,  9.24      , 48.065998  ],\n",
    "       [ 0.3404956 , -0.19294305, -0.92023677]], dtype=np.float32)\n",
    "opacity_gaussians = [[{'position': 0.23888888888888893,\n",
    "   'height': 0.3090909090909091,\n",
    "   'width': 0.1722222222222221,\n",
    "   'xBias': 0.04708953460902432,\n",
    "   'yBias': 0}]]\n",
    "cmap = cm.bone\n",
    "gradient_opacity = 1.0\n",
    "background = (0.6,0.6,0.6)\n",
    "ui_collapsed = True\n",
    "\n",
    "viewer_kwargs = { 'camera': camera,\n",
    "                  'opacity_gaussians': opacity_gaussians,\n",
    "                  'cmap': cmap,\n",
    "                  'gradient_opacity': gradient_opacity,\n",
    "                  'background': background,\n",
    "                  'ui_collapsed': ui_collapsed }"
   ]
  },
  {
   "cell_type": "code",
   "execution_count": 4,
   "metadata": {},
   "outputs": [],
   "source": [
    "# Select input tab\n",
    "\n",
    "selected_input_path = None\n",
    "selected_input_image = None\n",
    "selected_input_callbacks = []\n",
    "\n",
    "input_images_paths = [str(ii) for ii in inputs_images_dir.glob('*')]\n",
    "input_images_paths.sort()\n",
    "selected_input_path = input_images_paths[0]\n",
    "selected_input_image = itk.imread(selected_input_path)\n",
    "input_select_widget = Select(options=input_images_paths, value=selected_input_path)\n",
    "\n",
    "input_viewer = view(image=selected_input_image, **viewer_kwargs)\n",
    "\n",
    "def on_input_select(change):\n",
    "    selected_input_path = change.new\n",
    "    image = itk.imread(change.new)\n",
    "    selected_input_image = image\n",
    "    input_viewer.image = image\n",
    "    for callback in selected_input_callbacks:\n",
    "        callback(change)\n",
    "    # input_viewer.reset_roi()\n",
    "    \n",
    "input_select_widget.observe(on_input_select, ['value'])\n",
    "input_select_box = HBox([input_select_widget, input_viewer])\n",
    "# input_select_box"
   ]
  },
  {
   "cell_type": "code",
   "execution_count": 5,
   "metadata": {},
   "outputs": [],
   "source": [
    "# Segment bones tab\n",
    "\n",
    "segment_postfix = '-bones.nrrd'\n",
    "segment_bones_label = Label('Segment bones')\n",
    "segment_bones_progress = FloatProgress(value=0.0,\n",
    "                         min=0.0,\n",
    "                         max=1.0,\n",
    "                         step=0.001,\n",
    "                         description='progress:',\n",
    "                         bar_style='info')\n",
    "segment_bones_hbox = HBox([segment_bones_label, segment_bones_progress])\n",
    "\n",
    "segment_bones_path = None\n",
    "output_path = output_images_dir / Path(Path(selected_input_path).name + segment_postfix)\n",
    "\n",
    "segment_bones_viewer = None\n",
    "if output_path.exists():\n",
    "    segment_bones_path = str(output_path)\n",
    "    label_image = itk.imread(str(output_path))\n",
    "    segment_bones_viewer = view(image=selected_input_image, label_image=label_image, **viewer_kwargs)\n",
    "else:\n",
    "    segment_bones_viewer = view(image=selected_input_image, **viewer_kwargs)\n",
    "segment_bones_vbox = VBox([segment_bones_hbox, segment_bones_viewer])\n",
    "\n",
    "def on_select_input_segment_bones(change):\n",
    "\n",
    "    output_path = output_images_dir / Path(Path(selected_input_path).name + segment_postfix)\n",
    "    segment_bones_path = str(output_path)\n",
    "    image = selected_input_image\n",
    "    segment_bones_viewer.image = image\n",
    "    if output_path.exists():\n",
    "        label_image = itk.imread(str(output_path))\n",
    "        segment_bones_viewer.label_image = label_image\n",
    "        return\n",
    "\n",
    "    bone_segmenter = itk.SegmentBonesInMicroCTFilter.New(image)\n",
    "    cortical_thickness=0.1\n",
    "    bone_segmenter.SetCorticalBoneThickness(cortical_thickness)\n",
    "\n",
    "    segment_bones_progress.value = 0.0\n",
    "    segment_bones_progress.bar_style = 'info'\n",
    "    def update_progress():\n",
    "        segment_bones_progress.value = bone_segmenter.GetProgress()\n",
    "    bone_segmenter.AddObserver(itk.ProgressEvent(), update_progress)\n",
    "    bone_segmenter.Update()\n",
    "    \n",
    "    segment_bones_path = str(output_path)\n",
    "    itk.imwrite(bone_segmenter.GetOutput(), segment_bones_path)\n",
    "\n",
    "    segment_bones_progress.bar_style = 'success'\n",
    "    segment_bones_progress.description = 'done.'\n",
    "    \n",
    "    segment_bones_viewer.label_image=bone_segmenter.GetOutput()\n",
    "    \n",
    "selected_input_callbacks.append(on_select_input_segment_bones)"
   ]
  },
  {
   "cell_type": "code",
   "execution_count": 6,
   "metadata": {},
   "outputs": [],
   "source": [
    "# Select landmarks tab\n",
    " \n",
    "atlas_path = atlas_dir / Path('907-L.nrrd')\n",
    "if not atlas_path.exists():\n",
    "\n",
    "    url = 'https://data.kitware.com/api/v1/file/5ef375199014a6d84edb6a1f/download'\n",
    "    urlretrieve(url, str(atlas_path))\n",
    "\n",
    "atlas = itk.imread(str(atlas_path))\n",
    "\n",
    "atlas_label_path = atlas_dir / Path('907-L-atlas.nrrd')\n",
    "if not atlas_label_path.exists():\n",
    "    url = 'https://data.kitware.com/api/v1/file/5ef372559014a6d84edb627e/download'\n",
    "    urlretrieve(url, str(atlas_label_path))\n",
    "\n",
    "atlas_label = itk.imread(str(atlas_label_path))\n",
    "\n",
    "\n",
    "center_of_femur_head = np.array([4.072,11.347,43.816]).reshape((1,3))\n",
    "femur_shaft = np.array([7.713,9.107,42.649]).reshape((1,3))\n",
    "dent = np.array([3.787,11.172,45.173]).reshape((1,3))\n",
    "\n",
    "opacity_gaussians_landmark = [[{'position': 0.33611111111111114,\n",
    "   'height': 0.24545454545454548,\n",
    "   'width': 0.22499999999999998,\n",
    "   'xBias': 0.51,\n",
    "   'yBias': 0.4}]]\n",
    "viewer_atlas = view(atlas,\n",
    "     #label_image=atlas_label,\n",
    "     gradient_opacity=gradient_opacity,\n",
    "     background=background,\n",
    "     cmap=cmap,\n",
    "     camera=camera,\n",
    "     opacity_gaussians=opacity_gaussians_landmark,\n",
    "     point_set_sizes=[15,]*3,\n",
    "     ui_collapsed=ui_collapsed,\n",
    "     point_set_representations=['points',]*3,\n",
    "     point_sets=[center_of_femur_head, femur_shaft, dent])\n",
    "\n",
    "center_of_femur_head = np.array([4.945,9.225,46.011]).reshape((1,3))\n",
    "femur_shaft = np.array([7.424,9.474,44.711]).reshape((1,3))\n",
    "dent = np.array([5.018,9.058,47.535]).reshape((1,3))\n",
    "\n",
    "viewer_landmark = view(selected_input_image,\n",
    "     gradient_opacity=gradient_opacity,\n",
    "     background=background,\n",
    "     cmap=cmap,\n",
    "     camera=camera,\n",
    "     slicing_planes=True,\n",
    "     ui_collapsed=True,\n",
    "     opacity_gaussians=opacity_gaussians_landmark,\n",
    "     point_set_sizes=[15,]*3,\n",
    "     point_set_representations=['points',]*3,\n",
    "     point_sets=[center_of_femur_head, femur_shaft, dent])\n",
    "def on_select_input_viewer_landmark_update(change):\n",
    "    viewer_landmark.image = selected_input_image\n",
    "selected_input_callbacks.append(on_select_input_viewer_landmark_update)\n",
    "\n",
    "head_center_widgets_top = [ColorPicker(description='Head Center ', concise=True, value='#d60000', disabled=True),\n",
    "                           Button(description='From last click', tooltip='Set from last clicked slice point', icon='dot-circle-o'),]\n",
    "head_center_widgets_bottom = [FloatText(value=4.945, description='x:'),\n",
    "                              FloatText(value=9.225, description='y:'),\n",
    "                              FloatText(value=46.011, description='z:'),]\n",
    "def head_center_from_click(change):\n",
    "    position = viewer_landmark.clicked_slice_point.position\n",
    "    for i in range(3):\n",
    "        head_center_widgets_bottom[i].value = position[i]\n",
    "head_center_widgets_top[1].on_click(head_center_from_click)\n",
    "head_center_box = VBox([HBox(head_center_widgets_top), HBox(head_center_widgets_bottom)])\n",
    "\n",
    "shaft_widgets_top = [ColorPicker(description='Shaft', concise=True, value='#8c39ff', disabled=True),\n",
    "                     Button(description='From last click', tooltip='Set from last clicked slice point', icon='dot-circle-o'),]\n",
    "shaft_widgets_bottom = [FloatText(value=7.424, description='x:'),\n",
    "                        FloatText(value=9.474, description='y:'),\n",
    "                        FloatText(value=44.711, description='z:'),]\n",
    "shaft_box = VBox([HBox(shaft_widgets_top), HBox(shaft_widgets_bottom)])\n",
    "\n",
    "indent_widgets_top = [ColorPicker(description='Indent', concise=True, value='#018700', disabled=True),\n",
    "                     Button(description='From last click', tooltip='Set from last clicked slice point', icon='dot-circle-o'),]\n",
    "indent_widgets_bottom = [FloatText(value=5.018, description='x:'),\n",
    "                         FloatText(value=9.058, description='y:'),\n",
    "                         FloatText(value=47.535, description='z:'),]\n",
    "indent_box = VBox([HBox(indent_widgets_top), HBox(indent_widgets_bottom)])\n",
    "\n",
    "def update_positions():\n",
    "    head_center_point = np.array([ft.value for ft in head_center_widgets_bottom]).reshape((1,3))\n",
    "    shaft_point = np.array([ft.value for ft in shaft_widgets_bottom]).reshape((1,3))\n",
    "    indent_point = np.array([ft.value for ft in indent_widgets_bottom]).reshape((1,3))\n",
    "    viewer_landmark.point_sets = [head_center_point, shaft_point, indent_point]\n",
    "\n",
    "\n",
    "def head_center_from_click(change):\n",
    "    if viewer_landmark.clicked_slice_point is None:\n",
    "        return\n",
    "    position = viewer_landmark.clicked_slice_point.position\n",
    "    for i in range(3):\n",
    "        head_center_widgets_bottom[i].value = position[i]\n",
    "    update_positions()\n",
    "head_center_widgets_top[1].on_click(head_center_from_click)\n",
    "def shaft_from_click(change):\n",
    "    if viewer_landmark.clicked_slice_point is None:\n",
    "        return\n",
    "    position = viewer.clicked_slice_point.position\n",
    "    for i in range(3):\n",
    "        shaft_widgets_bottom[i].value = position[i]\n",
    "    update_positions()\n",
    "shaft_widgets_top[1].on_click(shaft_from_click)\n",
    "def indent_from_click(change):\n",
    "    if viewer_landmark.clicked_slice_point is None:\n",
    "        return\n",
    "    position = viewer_landmark.clicked_slice_point.position\n",
    "    for i in range(3):\n",
    "        indent_widgets_bottom[i].value = position[i]\n",
    "    update_positions()\n",
    "shaft_widgets_top[1].on_click(shaft_from_click)\n",
    "for float_input in head_center_widgets_bottom + shaft_widgets_bottom + indent_widgets_bottom:\n",
    "    float_input.observe(lambda x: update_positions(), 'value')\n",
    "\n",
    "select_landmark_viewers = VBox([viewer_atlas, viewer_landmark])\n",
    "position_widgets = VBox([head_center_box, shaft_box, indent_box])\n",
    "\n",
    "select_landmark_widget = VBox([select_landmark_viewers, position_widgets])\n",
    "\n",
    "# select_landmark_widget"
   ]
  },
  {
   "cell_type": "code",
   "execution_count": 7,
   "metadata": {},
   "outputs": [],
   "source": [
    "# Landmark registration tab\n",
    "\n",
    "landmark_registration_button = Button(description='Run registration')\n",
    "\n",
    "landmark_registration_viewer = view(image=selected_input_image, **viewer_kwargs)\n",
    "def on_select_input_landmark_registration(change):\n",
    "    landmark_registration_viewer.image = selected_input_image\n",
    "selected_input_callbacks.append(on_select_input_landmark_registration)\n",
    "\n",
    "landmark_registration_widget = VBox([landmark_registration_button, landmark_registration_viewer])\n",
    "\n",
    "def run_landmark_registration(change):\n",
    "    image = selected_input_image\n",
    "    label_image = itk.imread(segment_bones_path)\n",
    "    landmark_registration = itk.LandmarkAtlasSegmentationFilter[type(image), type(label_image)].New()\n",
    "    landmark_registration.SetInput(image)\n",
    "    landmark_registration.SetInput(1, atlas)\n",
    "    landmark_registration.SetInputLabels(label_image)\n",
    "    landmark_registration.SetAtlasLabels(atlas_label)\n",
    "\n",
    "    LandmarksType = itk.vector[itk.Point[itk.D, 3]]\n",
    "\n",
    "    input_landmarks = LandmarksType()\n",
    "    input_landmarks.push_back([ft.value for ft in head_center_widgets_bottom])\n",
    "    input_landmarks.push_back([ft.value for ft in shaft_widgets_bottom])\n",
    "    input_landmarks.push_back([ft.value for ft in indent_widgets_bottom])\n",
    "    landmark_registration.SetInputLandmarks(input_landmarks)\n",
    "\n",
    "    atlas_landmarks = LandmarksType()\n",
    "    atlas_landmarks.push_back([4.072,11.347,43.816])\n",
    "    atlas_landmarks.push_back([7.713,9.107,42.649])\n",
    "    atlas_landmarks.push_back([3.787,11.172,45.173])\n",
    "    landmark_registration.SetAtlasLandmarks(atlas_landmarks)\n",
    "    landmark_registration_button.button_style = 'info'\n",
    "    landmark_registration.Update()\n",
    "    label_image = landmark_registration.GetOutput()\n",
    "    viewer = view(image=selected_input_image, label_image=label_image, **viewer_kwargs)\n",
    "    landmark_registration_widget.children = [landmark_registration_button, viewer]\n",
    "    landmark_registration_button.button_style = 'success'\n",
    "    \n",
    "landmark_registration_button.on_click(run_landmark_registration)\n",
    "\n"
   ]
  },
  {
   "cell_type": "code",
   "execution_count": 8,
   "metadata": {
    "scrolled": false
   },
   "outputs": [
    {
     "data": {
      "application/vnd.jupyter.widget-view+json": {
       "model_id": "6a8ac682117c471f8b4cf65f736d3b8f",
       "version_major": 2,
       "version_minor": 0
      },
      "text/plain": [
       "Tab(children=(HBox(children=(Select(options=('input_images/901-L.nrrd', 'input_images/907-L.nrrd'), value='inp…"
      ]
     },
     "metadata": {},
     "output_type": "display_data"
    },
    {
     "name": "stderr",
     "output_type": "stream",
     "text": [
      "itkPointSetD3 not loaded from module ITKRegistrationCommon because of exception:\n",
      " module 'itk.ITKRegistrationCommonPython' has no attribute 'itkPointSetD3'\n",
      "Template itk::LandmarkAtlasSegmentationFilter<itk::Image<signedshort,3>,itk::Image<signedshort,3>>\n",
      " already defined as <class 'itk.itkLandmarkAtlasSegmentationFilterPython.itkLandmarkAtlasSegmentationFilterISS3ISS3'>\n",
      " is redefined as <class 'itk.itkLandmarkAtlasSegmentationFilterPython.itkLandmarkAtlasSegmentationFilterISS3ISS3'>\n",
      "Warning: template already defined 'itk::LandmarkAtlasSegmentationFilter<itk::Image<signedshort,3>,itk::Image<signedshort,3>>'\n"
     ]
    }
   ],
   "source": [
    "tab_names = ['Select input',\n",
    "             'Segment bones',\n",
    "             'Select landmarks',\n",
    "             'Landmark registration']\n",
    "tab_children = [input_select_box,\n",
    "                segment_bones_vbox,\n",
    "                select_landmark_widget,\n",
    "                landmark_registration_widget]\n",
    "\n",
    "tab_widget = Tab()\n",
    "tab_widget.children = tab_children\n",
    "for ii, name in enumerate(tab_names):\n",
    "    tab_widget.set_title(ii, name)\n",
    "tab_widget"
   ]
  },
  {
   "cell_type": "code",
   "execution_count": 43,
   "metadata": {},
   "outputs": [],
   "source": [
    "# Deformation tab\n",
    "\n",
    "input_masked_trabecular = itk.mask_negated_image_filter(image, mask_image=label_image, masking_value=2)\n",
    "input_masked_cancellous = itk.mask_negated_image_filter(image, mask_image=label_image, masking_value=1)\n",
    "input_masked = itk.add_image_filter(input_masked_trabecular, input_masked_cancellous)\n",
    "del input_masked_trabecular\n",
    "del input_masked_cancellous"
   ]
  },
  {
   "cell_type": "code",
   "execution_count": 44,
   "metadata": {},
   "outputs": [],
   "source": [
    "atlas_masked = itk.mask_image_filter(atlas, mask_image=atlas_label, masking_value=0)"
   ]
  },
  {
   "cell_type": "code",
   "execution_count": 45,
   "metadata": {},
   "outputs": [],
   "source": [
    "label_masked_trabecular = itk.mask_negated_image_filter(label_image, mask_image=label_image, masking_value=2)\n",
    "label_masked_cancellous = itk.mask_negated_image_filter(label_image, mask_image=label_image, masking_value=1)\n",
    "label_masked = itk.add_image_filter(label_masked_trabecular, label_masked_cancellous)\n",
    "label_masked = itk.cast_image_filter(label_masked, ttype=(type(label_masked), itk.Image[itk.UC, 3]))\n",
    "del label_masked_trabecular\n",
    "del label_masked_cancellous"
   ]
  },
  {
   "cell_type": "code",
   "execution_count": 46,
   "metadata": {},
   "outputs": [],
   "source": [
    "label_masked_map = itk.label_image_to_label_map_filter(label_masked)\n",
    "cropped = itk.auto_crop_label_map_filter(label_masked_map, crop_border=[6,]*3)\n",
    "label_masked_cropped = itk.label_map_to_label_image_filter(cropped)"
   ]
  },
  {
   "cell_type": "code",
   "execution_count": 51,
   "metadata": {},
   "outputs": [
    {
     "data": {
      "application/vnd.jupyter.widget-view+json": {
       "model_id": "e5979f5403a6486da2d1eed120742620",
       "version_major": 2,
       "version_minor": 0
      },
      "text/plain": [
       "Viewer(background=(0.6, 0.6, 0.6), camera=array([[-8.23076   , 16.761303  , 41.647186  ],\n",
       "       [ 4.855     ,…"
      ]
     },
     "metadata": {},
     "output_type": "display_data"
    }
   ],
   "source": [
    "input_masked_cropped = itk.extract_image_filter(input_masked,\n",
    "                                                extraction_region=label_masked_cropped.GetLargestPossibleRegion())\n",
    "view(input_masked_cropped,\n",
    "     label_image=label_masked_cropped,\n",
    "     cmap=cm.bone,\n",
    "     camera=camera,\n",
    "     gradient_opacity=1.0,\n",
    "     background=(0.6,0.6,0.6),\n",
    "     opacity_gaussians=opacity_gaussians\n",
    "     )"
   ]
  },
  {
   "cell_type": "code",
   "execution_count": 52,
   "metadata": {},
   "outputs": [],
   "source": [
    "transform = landmark_registration.GetFinalTransform()\n",
    "atlas_affine_transformed = itk.resample_image_filter(atlas_masked,\n",
    "                                                     use_reference_image=True,\n",
    "                                                     reference_image=input_masked_cropped,\n",
    "                                                     transform=transform)"
   ]
  },
  {
   "cell_type": "code",
   "execution_count": 53,
   "metadata": {},
   "outputs": [],
   "source": [
    "nearest_interpolator = itk.NearestNeighborInterpolateImageFunction.New(atlas_label)\n",
    "atlas_labels_affine_transformed = itk.resample_image_filter(atlas_label,\n",
    "                                                            use_reference_image=True,\n",
    "                                                            reference_image=input_masked_cropped,\n",
    "                                                            transform=transform,\n",
    "                                                            interpolator=nearest_interpolator)"
   ]
  },
  {
   "cell_type": "code",
   "execution_count": 55,
   "metadata": {},
   "outputs": [
    {
     "data": {
      "application/vnd.jupyter.widget-view+json": {
       "model_id": "563407adb73540d08b178f418f19a2d4",
       "version_major": 2,
       "version_minor": 0
      },
      "text/plain": [
       "Viewer(background=(0.6, 0.6, 0.6), camera=array([[-8.23076   , 16.761303  , 41.647186  ],\n",
       "       [ 4.855     ,…"
      ]
     },
     "metadata": {},
     "output_type": "display_data"
    }
   ],
   "source": [
    "itk.imwrite(input_masked_cropped, file_name + '-input-masked-cropped.nrrd')\n",
    "itk.imwrite(atlas_affine_transformed, file_name + '-atlas-affine-transformed.nrrd')\n",
    "itk.imwrite(atlas_labels_affine_transformed, file_name + '-atlas-labels-affine-transformed.nrrd')\n",
    "view(atlas_affine_transformed,\n",
    "     label_image=atlas_labels_affine_transformed,\n",
    "     cmap=cm.bone,\n",
    "     camera=camera,\n",
    "     gradient_opacity=1.0,\n",
    "     background=(0.6,0.6,0.6),\n",
    "     opacity_gaussians=opacity_gaussians\n",
    "     )"
   ]
  },
  {
   "cell_type": "code",
   "execution_count": 56,
   "metadata": {},
   "outputs": [],
   "source": [
    "input_masked_cropped_f = itk.imread(file_name + '-input-masked-cropped.nrrd', itk.F)\n",
    "atlas_affine_transformed_f = itk.imread(file_name + '-atlas-affine-transformed.nrrd', itk.F)\n",
    "atlas_labels_affine_transformed_f = itk.imread(file_name + '-atlas-labels-affine-transformed.nrrd', itk.F)"
   ]
  },
  {
   "cell_type": "code",
   "execution_count": 57,
   "metadata": {},
   "outputs": [
    {
     "name": "stdout",
     "output_type": "stream",
     "text": [
      "CPU times: user 3min 37s, sys: 5.79 s, total: 3min 43s\n",
      "Wall time: 49.3 s\n"
     ]
    }
   ],
   "source": [
    "%time registered_atlas, transform_parameter_object = itk.elastix_registration_method(input_masked_cropped_f, atlas_affine_transformed_f)"
   ]
  },
  {
   "cell_type": "code",
   "execution_count": 58,
   "metadata": {},
   "outputs": [],
   "source": [
    "transformer = itk.TransformixFilter[type(atlas_labels_affine_transformed_f)].New()\n",
    "transformer.SetMovingImage(atlas_labels_affine_transformed_f)\n",
    "transformer.SetTransformParameterObject(transform_parameter_object)\n",
    "transformer.Update()\n",
    "transformed = transformer.GetOutput()\n",
    "transformed_cast = itk.cast_image_filter(transformed, ttype=(type(transformed), itk.Image[itk.UC, 3]))"
   ]
  },
  {
   "cell_type": "code",
   "execution_count": 67,
   "metadata": {},
   "outputs": [
    {
     "data": {
      "application/vnd.jupyter.widget-view+json": {
       "model_id": "34e7066ba7b043c2842c4f077e49772e",
       "version_major": 2,
       "version_minor": 0
      },
      "text/plain": [
       "Viewer(background=(0.6, 0.6, 0.6), camera=array([[-8.23076   , 16.761303  , 41.647186  ],\n",
       "       [ 4.855     ,…"
      ]
     },
     "metadata": {},
     "output_type": "display_data"
    }
   ],
   "source": [
    "opacity_gaussians = [[{'position': 0.5,\n",
    "   'height': 0.5636363636363637,\n",
    "   'width': 0.5,\n",
    "   'xBias': 0.026666666666666672,\n",
    "   'yBias': 0}]]\n",
    "registered = view(input_masked_cropped_f,\n",
    "                  label_image=transformed_cast,\n",
    "                  label_image_blend=0.7,\n",
    "                  camera=camera,\n",
    "                  gradient_opacity=1.0,\n",
    "                  background=(0.6,0.6,0.6),\n",
    "                  cmap=cm.bone,\n",
    "                  opacity_gaussians=opacity_gaussians,\n",
    "                  ui_collapsed=True,\n",
    "                  )\n",
    "registered"
   ]
  },
  {
   "cell_type": "code",
   "execution_count": 69,
   "metadata": {},
   "outputs": [],
   "source": [
    "weights = np.ones((10,), dtype=np.float32)*0.1\n",
    "weights[5] = 1.0\n",
    "registered.label_image_weights = weights"
   ]
  },
  {
   "cell_type": "code",
   "execution_count": 74,
   "metadata": {},
   "outputs": [],
   "source": [
    "roi = itk.mask_negated_image_filter(transformed_cast, mask_image=transformed_cast, masking_value=5)\n",
    "# view(label_image=roi)"
   ]
  },
  {
   "cell_type": "code",
   "execution_count": 75,
   "metadata": {},
   "outputs": [],
   "source": [
    "morphometry_filter = itk.BoneMorphometryFeaturesFilter.New(input_masked_cropped_f)\n",
    "morphometry_filter.SetMaskImage(roi)\n",
    "morphometry_filter.Update()"
   ]
  },
  {
   "cell_type": "code",
   "execution_count": 76,
   "metadata": {},
   "outputs": [
    {
     "name": "stdout",
     "output_type": "stream",
     "text": [
      "BVTV 0.7600745916651215\n",
      "TbN 15.203703884426831\n",
      "TbTh 0.049992725288715116\n",
      "TbSp 0.015780720945284547\n",
      "BSBV 40.00582061589391\n"
     ]
    }
   ],
   "source": [
    "print('BVTV', morphometry_filter.GetBVTV())\n",
    "print('TbN', morphometry_filter.GetTbN())\n",
    "print('TbTh', morphometry_filter.GetTbTh())\n",
    "print('TbSp', morphometry_filter.GetTbSp())\n",
    "print('BSBV', morphometry_filter.GetBSBV())"
   ]
  },
  {
   "cell_type": "code",
   "execution_count": null,
   "metadata": {},
   "outputs": [],
   "source": []
  }
 ],
 "metadata": {
  "kernelspec": {
   "display_name": "Python 3",
   "language": "python",
   "name": "python3"
  },
  "language_info": {
   "codemirror_mode": {
    "name": "ipython",
    "version": 3
   },
   "file_extension": ".py",
   "mimetype": "text/x-python",
   "name": "python",
   "nbconvert_exporter": "python",
   "pygments_lexer": "ipython3",
   "version": "3.8.0"
  }
 },
 "nbformat": 4,
 "nbformat_minor": 2
}
