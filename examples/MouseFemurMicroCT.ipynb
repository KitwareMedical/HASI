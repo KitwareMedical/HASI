{
 "cells": [
  {
   "cell_type": "code",
   "execution_count": 13,
   "metadata": {},
   "outputs": [],
   "source": [
    "from urllib.request import urlretrieve\n",
    "import os\n",
    "\n",
    "import itk\n",
    "import numpy as np\n",
    "\n",
    "from itkwidgets import view\n",
    "from ipywidgets import FloatProgress, Label, HBox"
   ]
  },
  {
   "cell_type": "code",
   "execution_count": 2,
   "metadata": {},
   "outputs": [],
   "source": [
    "# Download input image\n",
    "file_name = '901-L.nrrd'\n",
    "if not os.path.exists(file_name):\n",
    "    url = 'https://data.kitware.com/api/v1/file/5ef373379014a6d84edb66f8/download'\n",
    "    urlretrieve(url, file_name)"
   ]
  },
  {
   "cell_type": "code",
   "execution_count": 3,
   "metadata": {},
   "outputs": [],
   "source": [
    "image = itk.imread(file_name)"
   ]
  },
  {
   "cell_type": "code",
   "execution_count": 36,
   "metadata": {
    "scrolled": true
   },
   "outputs": [
    {
     "data": {
      "application/vnd.jupyter.widget-view+json": {
       "model_id": "aeb68977517448bba834b112831781d7",
       "version_major": 2,
       "version_minor": 0
      },
      "text/plain": [
       "Viewer(background=(0.6, 0.6, 0.6), camera=array([[-2.4597874 , 19.208582  , 45.884567  ],\n",
       "       [ 4.855     ,…"
      ]
     },
     "metadata": {},
     "output_type": "display_data"
    }
   ],
   "source": [
    "camera = np.array([[-7.028664  , 20.177433  , 45.209637  ],\n",
    "       [ 4.8549995 ,  9.24      , 48.065998  ],\n",
    "       [-0.17604062,  0.06524051,  0.9822186 ]], dtype=np.float32)\n",
    "camera = np.array([[-2.4597874 , 19.208582  , 45.884567  ],\n",
    "       [ 4.855     ,  9.24      , 48.065998  ],\n",
    "       [-0.22125234,  0.05076638,  0.97389436]], dtype=np.float32)\n",
    "opacity_gaussians = [[{'position': 0.3,\n",
    "   'height': 0.7545454545454545,\n",
    "   'width': 0.2194444444444444,\n",
    "   'xBias': 0.03777777777777777,\n",
    "   'yBias': 0}]]\n",
    "opacity_gaussians = [[{'position': 0.23888888888888893,\n",
    "   'height': 0.3090909090909091,\n",
    "   'width': 0.1722222222222221,\n",
    "   'xBias': 0.04708953460902432,\n",
    "   'yBias': 0}]]\n",
    "viewer = view(image,\n",
    "     cmap='bone_Matlab',\n",
    "     gradient_opacity=1.0,\n",
    "     background=(0.6,0.6,0.6),\n",
    "     ui_collapsed=True,\n",
    "     camera=camera,\n",
    "     opacity_gaussians=opacity_gaussians\n",
    "    )\n",
    "viewer"
   ]
  },
  {
   "cell_type": "code",
   "execution_count": 16,
   "metadata": {},
   "outputs": [
    {
     "data": {
      "application/vnd.jupyter.widget-view+json": {
       "model_id": "8ebba0209cc84f1ba1366b29e27fa38f",
       "version_major": 2,
       "version_minor": 0
      },
      "text/plain": [
       "HBox(children=(Label(value='Segment bones'), FloatProgress(value=0.0, bar_style='info', description='progress:…"
      ]
     },
     "metadata": {},
     "output_type": "display_data"
    }
   ],
   "source": [
    "label = Label('Segment bones')\n",
    "progress = FloatProgress(value=0.0,\n",
    "                         min=0.0,\n",
    "                         max=1.0,\n",
    "                         step=0.001,\n",
    "                         description='progress:',\n",
    "                         bar_style='info')\n",
    "progress\n",
    "box = HBox([label, progress])\n",
    "box"
   ]
  },
  {
   "cell_type": "code",
   "execution_count": 10,
   "metadata": {},
   "outputs": [
    {
     "name": "stderr",
     "output_type": "stream",
     "text": [
      "itkPointSetD3 not loaded from module ITKRegistrationCommon because of exception:\n",
      " module 'itk.ITKRegistrationCommonPython' has no attribute 'itkPointSetD3'\n",
      "Template itk::LandmarkAtlasSegmentationFilter<itk::Image<signedshort,3>,itk::Image<signedshort,3>>\n",
      " already defined as <class 'itk.itkLandmarkAtlasSegmentationFilterPython.itkLandmarkAtlasSegmentationFilterISS3ISS3'>\n",
      " is redefined as <class 'itk.itkLandmarkAtlasSegmentationFilterPython.itkLandmarkAtlasSegmentationFilterISS3ISS3'>\n",
      "Warning: template already defined 'itk::LandmarkAtlasSegmentationFilter<itk::Image<signedshort,3>,itk::Image<signedshort,3>>'\n"
     ]
    }
   ],
   "source": [
    "bone_segmenter = itk.SegmentBonesInMicroCTFilter.New(image)\n",
    "cortical_thickness=0.1\n",
    "bone_segmenter.SetCorticalBoneThickness(cortical_thickness)\n",
    "\n",
    "def update_progress():\n",
    "    progress.value = bone_segmenter.GetProgress()\n",
    "bone_segmenter.AddObserver(itk.ProgressEvent(), update_progress)\n",
    "\n",
    "bone_segmenter.Update()\n",
    "\n",
    "progress.bar_style = 'success'\n",
    "progress.description = 'done.'"
   ]
  },
  {
   "cell_type": "code",
   "execution_count": 37,
   "metadata": {},
   "outputs": [
    {
     "data": {
      "application/vnd.jupyter.widget-view+json": {
       "model_id": "34c54dabc39c458cba467be6d4b53b04",
       "version_major": 2,
       "version_minor": 0
      },
      "text/plain": [
       "Viewer(background=(0.6, 0.6, 0.6), camera=array([[-2.4597874 , 19.208582  , 45.884567  ],\n",
       "       [ 4.855     ,…"
      ]
     },
     "metadata": {},
     "output_type": "display_data"
    }
   ],
   "source": [
    "label_image = bone_segmenter.GetOutput()\n",
    "view(image=image,\n",
    "     label_image=label_image,\n",
    "     opacity_gaussians=opacity_gaussians,\n",
    "     gradient_opacity=1.0,\n",
    "     background=(0.6,0.6,0.6),\n",
    "     camera=camera,\n",
    "     ui_collapsed=True,\n",
    "     )"
   ]
  },
  {
   "cell_type": "code",
   "execution_count": 39,
   "metadata": {},
   "outputs": [],
   "source": [
    "# Download atlas image\n",
    "atlas_file_name = '907-L.nrrd'\n",
    "if not os.path.exists(atlas_file_name):\n",
    "    url = 'https://data.kitware.com/api/v1/file/5ef375199014a6d84edb6a1f/download'\n",
    "    urlretrieve(url, atlas_file_name)"
   ]
  },
  {
   "cell_type": "code",
   "execution_count": 40,
   "metadata": {},
   "outputs": [],
   "source": [
    "atlas = itk.imread(atlas_file_name)"
   ]
  },
  {
   "cell_type": "code",
   "execution_count": 49,
   "metadata": {},
   "outputs": [
    {
     "data": {
      "application/vnd.jupyter.widget-view+json": {
       "model_id": "2e231e5222e44a7fa3f92760dae2729a",
       "version_major": 2,
       "version_minor": 0
      },
      "text/plain": [
       "Viewer(background=(0.6, 0.6, 0.6), cmap=['bone_Matlab'], geometries=[], gradient_opacity=1.0, opacity_gaussian…"
      ]
     },
     "metadata": {},
     "output_type": "display_data"
    }
   ],
   "source": [
    "center_of_femur_head = np.array([4.072,11.347,43.816]).reshape((1,3))\n",
    "femur_shaft = np.array([7.713,9.107,42.649]).reshape((1,3))\n",
    "dent = np.array([3.787,11.172,45.173]).reshape((1,3))\n",
    "\n",
    "opacity_gaussians = [[{'position': 0.33611111111111114,\n",
    "   'height': 0.24545454545454548,\n",
    "   'width': 0.22499999999999998,\n",
    "   'xBias': 0.51,\n",
    "   'yBias': 0.4}]]\n",
    "view(atlas,\n",
    "     gradient_opacity=1.0,\n",
    "     background=(0.6,0.6,0.6),\n",
    "     cmap='bone_Matlab',\n",
    "     opacity_gaussians=opacity_gaussians,\n",
    "     point_set_sizes=[10,]*3,\n",
    "     point_set_representations=['spheres',]*3,\n",
    "     point_sets=[center_of_femur_head, femur_shaft, dent])"
   ]
  },
  {
   "cell_type": "code",
   "execution_count": 51,
   "metadata": {},
   "outputs": [
    {
     "data": {
      "application/vnd.jupyter.widget-view+json": {
       "model_id": "5367f99f7613450a86caf8de326a4a87",
       "version_major": 2,
       "version_minor": 0
      },
      "text/plain": [
       "Viewer(background=(0.6, 0.6, 0.6), cmap=['bone_Matlab'], geometries=[], gradient_opacity=1.0, opacity_gaussian…"
      ]
     },
     "metadata": {},
     "output_type": "display_data"
    }
   ],
   "source": [
    "center_of_femur_head = np.array([4.945,9.225,46.011]).reshape((1,3))\n",
    "femur_shaft = np.array([7.424,9.474,44.711]).reshape((1,3))\n",
    "dent = np.array([5.018,9.058,47.535]).reshape((1,3))\n",
    "\n",
    "view(image,\n",
    "     gradient_opacity=1.0,\n",
    "     background=(0.6,0.6,0.6),\n",
    "     cmap='bone_Matlab',\n",
    "     opacity_gaussians=opacity_gaussians,\n",
    "     point_set_sizes=[10,]*3,\n",
    "     point_set_representations=['spheres',]*3,\n",
    "     point_sets=[center_of_femur_head, femur_shaft, dent])"
   ]
  },
  {
   "cell_type": "code",
   "execution_count": null,
   "metadata": {},
   "outputs": [],
   "source": []
  }
 ],
 "metadata": {
  "kernelspec": {
   "display_name": "Python 3",
   "language": "python",
   "name": "python3"
  },
  "language_info": {
   "codemirror_mode": {
    "name": "ipython",
    "version": 3
   },
   "file_extension": ".py",
   "mimetype": "text/x-python",
   "name": "python",
   "nbconvert_exporter": "python",
   "pygments_lexer": "ipython3",
   "version": "3.8.0"
  }
 },
 "nbformat": 4,
 "nbformat_minor": 2
}
