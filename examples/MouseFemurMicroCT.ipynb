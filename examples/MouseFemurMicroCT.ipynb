{
 "cells": [
  {
   "cell_type": "code",
   "execution_count": 19,
   "metadata": {},
   "outputs": [],
   "source": [
    "from urllib.request import urlretrieve\n",
    "import os\n",
    "\n",
    "import itk\n",
    "import numpy as np\n",
    "\n",
    "from itkwidgets import view"
   ]
  },
  {
   "cell_type": "code",
   "execution_count": 3,
   "metadata": {},
   "outputs": [],
   "source": [
    "# Download data\n",
    "file_name = '901-L.nrrd'\n",
    "if not os.path.exists(file_name):\n",
    "    url = 'https://data.kitware.com/api/v1/file/5ef373379014a6d84edb66f8/download'\n",
    "    urlretrieve(url, file_name)"
   ]
  },
  {
   "cell_type": "code",
   "execution_count": 16,
   "metadata": {},
   "outputs": [],
   "source": [
    "image = itk.imread(file_name)"
   ]
  },
  {
   "cell_type": "code",
   "execution_count": 21,
   "metadata": {
    "scrolled": true
   },
   "outputs": [
    {
     "data": {
      "application/vnd.jupyter.widget-view+json": {
       "model_id": "d26d42a440bf405286b7bb752a11bad4",
       "version_major": 2,
       "version_minor": 0
      },
      "text/plain": [
       "Viewer(background=(0.4, 0.4, 0.4), camera=array([[-7.028664  , 20.177433  , 45.209637  ],\n",
       "       [ 4.8549995 ,…"
      ]
     },
     "metadata": {},
     "output_type": "display_data"
    }
   ],
   "source": [
    "camera = np.array([[-7.028664  , 20.177433  , 45.209637  ],\n",
    "       [ 4.8549995 ,  9.24      , 48.065998  ],\n",
    "       [-0.17604062,  0.06524051,  0.9822186 ]], dtype=np.float32)\n",
    "viewer = view(image,\n",
    "     cmap='bone_Matlab',\n",
    "     gradient_opacity=1.0,\n",
    "     background=(0.4,0.4,0.4),\n",
    "     ui_collapsed=True,\n",
    "     units='mm',\n",
    "     camera=camera,\n",
    "    )\n",
    "viewer"
   ]
  },
  {
   "cell_type": "code",
   "execution_count": 18,
   "metadata": {},
   "outputs": [
    {
     "data": {
      "text/plain": [
       "array([[-7.028664  , 20.177433  , 45.209637  ],\n",
       "       [ 4.8549995 ,  9.24      , 48.065998  ],\n",
       "       [-0.17604062,  0.06524051,  0.9822186 ]], dtype=float32)"
      ]
     },
     "execution_count": 18,
     "metadata": {},
     "output_type": "execute_result"
    }
   ],
   "source": [
    "viewer.camera"
   ]
  },
  {
   "cell_type": "code",
   "execution_count": 14,
   "metadata": {},
   "outputs": [
    {
     "data": {
      "application/vnd.jupyter.widget-view+json": {
       "model_id": "411db0fafaa245caadfb387051efa7c1",
       "version_major": 2,
       "version_minor": 0
      },
      "text/plain": [
       "Viewer(cmap=['bone_Matlab'], geometries=[], gradient_opacity=0.22, point_sets=[], rendered_image=<itk.itkImage…"
      ]
     },
     "metadata": {},
     "output_type": "display_data"
    }
   ],
   "source": [
    "view(denoised,\n",
    "     cmap='bone_Matlab')"
   ]
  },
  {
   "cell_type": "code",
   "execution_count": null,
   "metadata": {},
   "outputs": [],
   "source": []
  }
 ],
 "metadata": {
  "kernelspec": {
   "display_name": "Python 3",
   "language": "python",
   "name": "python3"
  },
  "language_info": {
   "codemirror_mode": {
    "name": "ipython",
    "version": 3
   },
   "file_extension": ".py",
   "mimetype": "text/x-python",
   "name": "python",
   "nbconvert_exporter": "python",
   "pygments_lexer": "ipython3",
   "version": "3.7.6"
  }
 },
 "nbformat": 4,
 "nbformat_minor": 2
}
