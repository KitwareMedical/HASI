{
 "cells": [
  {
   "cell_type": "markdown",
   "metadata": {},
   "source": [
    "# Iterative Template Generation\n",
    "\n",
    "This notebook exemplifies one way in which a template mesh atlas can be generated from a collection of segmented binary images. Each binary image of a mouse femur is downsampled to reduce pixel density prior to applying marching cubes to generate a mesh from the binary image. One arbitrary mesh is selected as the template and then registered to and resampled from each original mesh to get a full set of meshes with correspondence points. The meshes are then groupwise registered via procrustes alignment and the mean mesh is taken as the new template. This process is repeated for a fixed number of iterations to get a template mesh atlas that represents the average case of all meshes."
   ]
  },
  {
   "cell_type": "code",
   "execution_count": 1,
   "metadata": {},
   "outputs": [],
   "source": [
    "import os\n",
    "import glob\n",
    "\n",
    "import numpy as np\n",
    "import itk\n",
    "import sys\n",
    "from itkwidgets import view, checkerboard\n",
    "\n",
    "module_path = os.path.abspath(os.path.join('..'))\n",
    "\n",
    "if module_path not in sys.path:\n",
    "    sys.path.append(module_path)\n",
    "\n",
    "from src.hasi.hasi.pointsetentropyregistrar import PointSetEntropyRegistrar"
   ]
  },
  {
   "cell_type": "markdown",
   "metadata": {},
   "source": [
    "### Read images\n",
    "\n",
    "Input images represent the results of automatic binary segmentations of mouse femur data. Each image contains only the femur object and represents a different possible region in space."
   ]
  },
  {
   "cell_type": "code",
   "execution_count": 2,
   "metadata": {},
   "outputs": [],
   "source": [
    "# TODO download femurs if not locally available\n",
    "IMAGE_FOLDER = 'Input/femurs/'\n",
    "MESH_OUTPUT_FOLDER = 'Output/femurs/'\n",
    "MEAN_OUTPUT_FOLDER = 'Output/mean/'"
   ]
  },
  {
   "cell_type": "code",
   "execution_count": 3,
   "metadata": {},
   "outputs": [],
   "source": [
    "for folder in [IMAGE_FOLDER, MESH_OUTPUT_FOLDER, MEAN_OUTPUT_FOLDER]:\n",
    "    os.makedirs(folder, exist_ok=True)"
   ]
  },
  {
   "cell_type": "code",
   "execution_count": 4,
   "metadata": {},
   "outputs": [],
   "source": [
    "input_paths = glob.glob(IMAGE_FOLDER + '*')\n",
    "assert(len(input_paths) == 28)\n",
    "\n",
    "# FIXME remove 901-R for now because it is misaligned\n",
    "del input_paths[1]"
   ]
  },
  {
   "cell_type": "code",
   "execution_count": 5,
   "metadata": {},
   "outputs": [],
   "source": [
    "MESH_FILENAMES = [os.path.basename(file).replace('.nrrd','.obj') for file in input_paths]"
   ]
  },
  {
   "cell_type": "code",
   "execution_count": 6,
   "metadata": {},
   "outputs": [],
   "source": [
    "images = list()\n",
    "\n",
    "for path in input_paths:\n",
    "    images.append(itk.imread(path, itk.UC))"
   ]
  },
  {
   "cell_type": "markdown",
   "metadata": {},
   "source": [
    "### Paste images into same space\n",
    "For viewing convenience."
   ]
  },
  {
   "cell_type": "code",
   "execution_count": 7,
   "metadata": {},
   "outputs": [],
   "source": [
    "# Verify image spacing is equivalent\n",
    "TOLERANCE = 0.0000001\n",
    "assert(all([itk.spacing(images[i])[j] - itk.spacing(images[i+1])[j] < TOLERANCE\n",
    "            for j in range(0,images[0].GetImageDimension())\n",
    "            for i in range(0,len(images) - 1)]))"
   ]
  },
  {
   "cell_type": "code",
   "execution_count": 8,
   "metadata": {},
   "outputs": [
    {
     "name": "stdout",
     "output_type": "stream",
     "text": [
      "itkSize3 ([1392, 983, 1247])\n"
     ]
    }
   ],
   "source": [
    "# Get largest range containing images\n",
    "max_size = itk.size(images[0])\n",
    "for image in images:\n",
    "    for i in range(0,len(max_size)):\n",
    "        max_size[i] = max(max_size[i], itk.size(image)[i])\n",
    "print(max_size)"
   ]
  },
  {
   "cell_type": "code",
   "execution_count": 9,
   "metadata": {},
   "outputs": [],
   "source": [
    "# Make image of common size\n",
    "def paste_common_size(orig_image, size, spacing):\n",
    "    dimension = orig_image.GetImageDimension()\n",
    "    region = itk.ImageRegion[dimension]()\n",
    "    region.SetSize(size)\n",
    "    region.SetIndex([0] * dimension)\n",
    "\n",
    "    new_image = type(orig_image).New()\n",
    "    new_image.SetRegions(region)\n",
    "    new_image.SetSpacing(spacing)\n",
    "    new_image.Allocate()\n",
    "    \n",
    "    filter = itk.PasteImageFilter[type(orig_image)].New()\n",
    "    filter.SetSourceImage(orig_image)\n",
    "    filter.SetSourceRegion(orig_image.GetLargestPossibleRegion())\n",
    "    filter.SetDestinationImage(new_image)\n",
    "    filter.SetDestinationIndex([0,0,0])\n",
    "    filter.Update()\n",
    "    \n",
    "    return filter.GetOutput()"
   ]
  },
  {
   "cell_type": "code",
   "execution_count": 10,
   "metadata": {},
   "outputs": [],
   "source": [
    "# Make images common size\n",
    "for i in range(0, len(images)):\n",
    "    images[i] = paste_common_size(images[i], max_size, images[0].GetSpacing())"
   ]
  },
  {
   "cell_type": "code",
   "execution_count": 11,
   "metadata": {},
   "outputs": [
    {
     "data": {
      "application/vnd.jupyter.widget-view+json": {
       "model_id": "ee821e422e2746df91da3d8c03bcb11f",
       "version_major": 2,
       "version_minor": 0
      },
      "text/plain": [
       "Viewer(geometries=[], gradient_opacity=0.22, point_sets=[], rendered_image=<itk.itkImagePython.itkImageUC3; pr…"
      ]
     },
     "metadata": {},
     "output_type": "display_data"
    }
   ],
   "source": [
    "view(images[1])"
   ]
  },
  {
   "cell_type": "markdown",
   "metadata": {},
   "source": [
    "### Downsample images\n",
    "The marching cubes algorithm returns a mesh with vertex density related to the pixel density of the original image. In this case marching cubes on the default images would produce meshes of approximately 800,000 points each, but the template mesh atlas is desired to contain only approximately 5,000 points. Each image is downsampled in order to yield a less dense mesh output."
   ]
  },
  {
   "cell_type": "code",
   "execution_count": 12,
   "metadata": {},
   "outputs": [],
   "source": [
    "DOWNSAMPLE_RATIO = 14"
   ]
  },
  {
   "cell_type": "code",
   "execution_count": 13,
   "metadata": {},
   "outputs": [],
   "source": [
    "downsampled_images = list()"
   ]
  },
  {
   "cell_type": "code",
   "execution_count": 14,
   "metadata": {},
   "outputs": [],
   "source": [
    "for image in images:\n",
    "    output_spacing = [spacing * DOWNSAMPLE_RATIO for spacing in itk.spacing(image)]\n",
    "    output_size = [int(size / DOWNSAMPLE_RATIO) for size in itk.size(image)]\n",
    "\n",
    "    downsample = itk.resample_image_filter(Input=image,\n",
    "                                           Size=output_size,\n",
    "                                           OutputOrigin=itk.origin(image),\n",
    "                                           OutputSpacing=output_spacing,)\n",
    "    downsampled_images.append(downsample)"
   ]
  },
  {
   "cell_type": "code",
   "execution_count": 15,
   "metadata": {
    "scrolled": false
   },
   "outputs": [
    {
     "data": {
      "application/vnd.jupyter.widget-view+json": {
       "model_id": "271e62f8d21146f2acc8818f912bb61e",
       "version_major": 2,
       "version_minor": 0
      },
      "text/plain": [
       "Viewer(geometries=[], gradient_opacity=0.22, point_sets=[], rendered_image=<itk.itkImagePython.itkImageUC3; pr…"
      ]
     },
     "metadata": {},
     "output_type": "display_data"
    }
   ],
   "source": [
    "view(downsample)"
   ]
  },
  {
   "cell_type": "markdown",
   "metadata": {},
   "source": [
    "### Generate Meshes\n",
    "The `itk.BinaryMask3DMeshSource` class makes use of the Marching Cubes algorithm to generate a mesh from a given object. Each binary image here uses the value '1' to indicate the femur is present at a pixel and '0' to indicate the femur is not present. Marching Cubes rapidly fills the femur space and generates surfaces at pixel region boundaries."
   ]
  },
  {
   "cell_type": "code",
   "execution_count": 16,
   "metadata": {
    "scrolled": true
   },
   "outputs": [],
   "source": [
    "FEMUR_OBJECT_PIXEL_VALUE = 1\n",
    "\n",
    "Dimension = itk.template(downsampled_images[0])[1][1]\n",
    "MeshType = itk.Mesh[itk.F,Dimension]\n",
    "MeshSourceType = itk.BinaryMask3DMeshSource[type(downsampled_images[0]), MeshType]"
   ]
  },
  {
   "cell_type": "code",
   "execution_count": 17,
   "metadata": {},
   "outputs": [
    {
     "name": "stdout",
     "output_type": "stream",
     "text": [
      "Average mesh points: 4822.518518518518\n"
     ]
    }
   ],
   "source": [
    "meshes = list()\n",
    "\n",
    "for image in downsampled_images:\n",
    "    mesh_source = MeshSourceType.New()\n",
    "    mesh_source.SetObjectValue(FEMUR_OBJECT_PIXEL_VALUE)\n",
    "    mesh_source.SetInput(image)\n",
    "    mesh_source.Update()\n",
    "    \n",
    "    mesh_output = mesh_source.GetOutput()\n",
    "    meshes.append(mesh_output)\n",
    "    \n",
    "print('Average mesh points: ' +\n",
    "      str(sum([mesh.GetNumberOfPoints() for mesh in meshes]) / len(meshes)))"
   ]
  },
  {
   "cell_type": "code",
   "execution_count": 18,
   "metadata": {},
   "outputs": [],
   "source": [
    "# Write out each mesh to disk\n",
    "for i in range(0,len(meshes)):\n",
    "    itk.meshwrite(meshes[i], f'{MESH_OUTPUT_FOLDER}{MESH_FILENAMES[i]}')"
   ]
  },
  {
   "cell_type": "code",
   "execution_count": 19,
   "metadata": {},
   "outputs": [],
   "source": [
    "# TODO visualize with itkwidgets\n",
    "# view(geometries=meshes)"
   ]
  },
  {
   "cell_type": "markdown",
   "metadata": {},
   "source": [
    "### Select Template Mesh\n",
    "It is now necessary to select a mesh that will act as the 'standard' for correspondence point updates from this point forward. The first mesh in the list is arbitrarily selected as this standard template."
   ]
  },
  {
   "cell_type": "code",
   "execution_count": 20,
   "metadata": {},
   "outputs": [],
   "source": [
    "TEMPLATE_MESH_INDEX = 0\n",
    "template_mesh = meshes[TEMPLATE_MESH_INDEX]"
   ]
  },
  {
   "cell_type": "code",
   "execution_count": 21,
   "metadata": {},
   "outputs": [],
   "source": [
    "# FIXME visualize template\n",
    "# view(geometries=[template_mesh])"
   ]
  },
  {
   "cell_type": "markdown",
   "metadata": {},
   "source": [
    "### Define Iterative Registration\n",
    "It is desired to find correspondence points between the template and each sample mesh. In order to get correspondence, two steps are employed:\n",
    "- First, a copy of the template mesh is registered to the target sample;\n",
    "- Second, each mesh point is updated to its nearest neighbor on the target sample.\n",
    "\n",
    "The result of this process is a full collection of meshes having the same number of points and correspondence between each point such that it represents the same approximate feature on each femur."
   ]
  },
  {
   "cell_type": "code",
   "execution_count": 22,
   "metadata": {
    "scrolled": true
   },
   "outputs": [],
   "source": [
    "#FIXME set mesh1 to better inital transform for registration\n",
    "#transform = itk.Euler3DTransform[itk.D].New()\n",
    "#params = transform.GetParameters()\n",
    "#params.SetElement(0,3.14)\n",
    "#params.SetElement(1,3.14)\n",
    "#params.SetElement(2,3.14 / 2)\n",
    "#transform.SetParameters(params)"
   ]
  },
  {
   "cell_type": "code",
   "execution_count": 23,
   "metadata": {
    "scrolled": true
   },
   "outputs": [],
   "source": [
    "def register_template_to_sample(template_mesh, \n",
    "                                sample_mesh,\n",
    "                                learning_rate=1.0,\n",
    "                                max_iterations=2000):\n",
    "    \n",
    "    registrar = PointSetEntropyRegistrar()\n",
    "    metric = itk.EuclideanDistancePointSetToPointSetMetricv4[itk.PointSet[itk.F,3]].New()\n",
    "    transform = itk.Euler3DTransform[itk.D].New()\n",
    "    \n",
    "    # Make a deep copy of the template point set to resample from the target\n",
    "    template_copy = itk.Mesh[itk.F,3].New()\n",
    "    for i in range(0, template_mesh.GetNumberOfPoints()):\n",
    "        template_copy.SetPoint(i, template_mesh.GetPoint(i))\n",
    "    template_copy.SetCells(template_mesh.GetCells())\n",
    "    \n",
    "    # Run registration and resample from target\n",
    "    (transform, deformed_mesh) = registrar.register(template_mesh=template_copy,\n",
    "                                                    target_mesh=sample_mesh,\n",
    "                                                    metric=metric,\n",
    "                                                    transform=transform,\n",
    "                                                    learning_rate=learning_rate,\n",
    "                                                    max_iterations=max_iterations,\n",
    "                                                    resample_from_target=True,\n",
    "                                                    verbose=False)\n",
    "    return deformed_mesh"
   ]
  },
  {
   "cell_type": "markdown",
   "metadata": {},
   "source": [
    "### Define Procrustes Alignment Parameters\n",
    "Now that template meshes have been aligned to represent each input mesh with correspondence, run Procrustes alignment and get out a mean mesh as the new template."
   ]
  },
  {
   "cell_type": "code",
   "execution_count": 24,
   "metadata": {},
   "outputs": [],
   "source": [
    "def align_procrustes(deformed_meshes, \n",
    "                     template_index, \n",
    "                     verbose=False,\n",
    "                     convergence=0.08):\n",
    "    \n",
    "    procrustes_filter = itk.MeshProcrustesAlignFilter[type(deformed_meshes[0]), type(deformed_meshes[0])].New()\n",
    "    \n",
    "    procrustes_filter.SetUseInitialAverageOff()\n",
    "    procrustes_filter.SetUseNormalizationOff()\n",
    "    procrustes_filter.SetUseScalingOff()\n",
    "    procrustes_filter.SetConvergence(convergence)  # Minimum threshold to exit alignment\n",
    "    \n",
    "    # Set mesh correspondence inputs\n",
    "    procrustes_filter.SetNumberOfInputs(len(deformed_meshes))\n",
    "    for i in range(0, len(deformed_meshes)):\n",
    "        procrustes_filter.SetInput(i, deformed_meshes[i])\n",
    "    \n",
    "    # Run filter\n",
    "    procrustes_filter.Update()\n",
    "    \n",
    "    if(verbose):\n",
    "        print(f'Alignment converged at {procrustes_filter.GetMeanPointsDifference()}')\n",
    "    \n",
    "    mean_result = procrustes_filter.GetMean()\n",
    "    mean_result.SetCells(deformed_meshes[template_index].GetCells())\n",
    "    return mean_result"
   ]
  },
  {
   "cell_type": "markdown",
   "metadata": {},
   "source": [
    "### Run Iterative Refinement\n",
    "\n",
    "Run registration and alignment on every mesh, choosing whether to iteratively update meshes to take advantage of mean alignment in each iteration or to ignore previous changes so that each alignment procedure is independent of the order of meshes in the list."
   ]
  },
  {
   "cell_type": "code",
   "execution_count": 26,
   "metadata": {},
   "outputs": [],
   "source": [
    "NUM_ITERATIONS = 1\n",
    "UPDATE_CONTINUOUSLY = True\n",
    "aligned_templates = list()\n",
    "\n",
    "# Write out mean meshes by iteration\n",
    "# ex. 'Output/mean/0/901-L-femur-label.obj'\n",
    "for i in range(0,NUM_ITERATIONS):\n",
    "    os.makedirs(MEAN_OUTPUT_FOLDER + str(i) + '\\\\', exist_ok=True)"
   ]
  },
  {
   "cell_type": "code",
   "execution_count": 29,
   "metadata": {
    "scrolled": true
   },
   "outputs": [
    {
     "name": "stdout",
     "output_type": "stream",
     "text": [
      "Now at iteration 0\n",
      "Now at template mesh 0\n",
      "Resampling from mesh 1\n",
      "Resampling from mesh 2\n",
      "Resampling from mesh 3\n",
      "Resampling from mesh 4\n",
      "Resampling from mesh 5\n",
      "Resampling from mesh 6\n",
      "Resampling from mesh 7\n",
      "Resampling from mesh 8\n",
      "Resampling from mesh 9\n",
      "Resampling from mesh 10\n",
      "Resampling from mesh 11\n",
      "Resampling from mesh 12\n",
      "Resampling from mesh 13\n",
      "Resampling from mesh 14\n",
      "Resampling from mesh 15\n",
      "Resampling from mesh 16\n",
      "Resampling from mesh 17\n",
      "Resampling from mesh 18\n",
      "Resampling from mesh 19\n",
      "Resampling from mesh 20\n",
      "Resampling from mesh 21\n",
      "Resampling from mesh 22\n",
      "Resampling from mesh 23\n",
      "Resampling from mesh 24\n",
      "Resampling from mesh 25\n",
      "Resampling from mesh 26\n",
      "Running alignment\n",
      "Alignment converged at 0.0013539076418325581\n",
      "Writing mean to Output/mean//0/901-L-femur-label.obj\n",
      "Now at template mesh 1\n",
      "Resampling from mesh 0\n",
      "Resampling from mesh 2\n",
      "Resampling from mesh 3\n",
      "Resampling from mesh 4\n",
      "Resampling from mesh 5\n",
      "Resampling from mesh 6\n",
      "Resampling from mesh 7\n",
      "Resampling from mesh 8\n",
      "Resampling from mesh 9\n",
      "Resampling from mesh 10\n",
      "Resampling from mesh 11\n",
      "Resampling from mesh 12\n",
      "Resampling from mesh 13\n",
      "Resampling from mesh 14\n",
      "Resampling from mesh 15\n",
      "Resampling from mesh 16\n",
      "Resampling from mesh 17\n",
      "Resampling from mesh 18\n",
      "Resampling from mesh 19\n",
      "Resampling from mesh 20\n",
      "Resampling from mesh 21\n",
      "Resampling from mesh 22\n",
      "Resampling from mesh 23\n",
      "Resampling from mesh 24\n",
      "Resampling from mesh 25\n",
      "Resampling from mesh 26\n",
      "Running alignment\n",
      "Alignment converged at 0.0021126325521304205\n",
      "Writing mean to Output/mean//0/902-L-femur-label.obj\n",
      "Now at template mesh 2\n",
      "Resampling from mesh 0\n",
      "Resampling from mesh 1\n",
      "Resampling from mesh 3\n",
      "Resampling from mesh 4\n",
      "Resampling from mesh 5\n",
      "Resampling from mesh 6\n",
      "Resampling from mesh 7\n",
      "Resampling from mesh 8\n",
      "Resampling from mesh 9\n",
      "Resampling from mesh 10\n",
      "Resampling from mesh 11\n",
      "Resampling from mesh 12\n",
      "Resampling from mesh 13\n",
      "Resampling from mesh 14\n",
      "Resampling from mesh 15\n",
      "Resampling from mesh 16\n",
      "Resampling from mesh 17\n",
      "Resampling from mesh 18\n",
      "Resampling from mesh 19\n",
      "Resampling from mesh 20\n",
      "Resampling from mesh 21\n",
      "Resampling from mesh 22\n",
      "Resampling from mesh 23\n",
      "Resampling from mesh 24\n",
      "Resampling from mesh 25\n",
      "Resampling from mesh 26\n",
      "Running alignment\n",
      "Alignment converged at 0.0013403246222149828\n",
      "Writing mean to Output/mean//0/902-R-femur-label.obj\n",
      "Now at template mesh 3\n",
      "Resampling from mesh 0\n",
      "Resampling from mesh 1\n",
      "Resampling from mesh 2\n",
      "Resampling from mesh 4\n",
      "Resampling from mesh 5\n",
      "Resampling from mesh 6\n",
      "Resampling from mesh 7\n",
      "Resampling from mesh 8\n",
      "Resampling from mesh 9\n",
      "Resampling from mesh 10\n",
      "Resampling from mesh 11\n",
      "Resampling from mesh 12\n",
      "Resampling from mesh 13\n",
      "Resampling from mesh 14\n",
      "Resampling from mesh 15\n",
      "Resampling from mesh 16\n",
      "Resampling from mesh 17\n",
      "Resampling from mesh 18\n",
      "Resampling from mesh 19\n",
      "Resampling from mesh 20\n",
      "Resampling from mesh 21\n",
      "Resampling from mesh 22\n",
      "Resampling from mesh 23\n",
      "Resampling from mesh 24\n",
      "Resampling from mesh 25\n",
      "Resampling from mesh 26\n",
      "Running alignment\n",
      "Alignment converged at 0.0010776738666368856\n",
      "Writing mean to Output/mean//0/906-L-femur-label.obj\n",
      "Now at template mesh 4\n",
      "Resampling from mesh 0\n",
      "Resampling from mesh 1\n",
      "Resampling from mesh 2\n",
      "Resampling from mesh 3\n",
      "Resampling from mesh 5\n",
      "Resampling from mesh 6\n",
      "Resampling from mesh 7\n",
      "Resampling from mesh 8\n",
      "Resampling from mesh 9\n",
      "Resampling from mesh 10\n",
      "Resampling from mesh 11\n",
      "Resampling from mesh 12\n",
      "Resampling from mesh 13\n",
      "Resampling from mesh 14\n",
      "Resampling from mesh 15\n",
      "Resampling from mesh 16\n",
      "Resampling from mesh 17\n",
      "Resampling from mesh 18\n",
      "Resampling from mesh 19\n",
      "Resampling from mesh 20\n",
      "Resampling from mesh 21\n",
      "Resampling from mesh 22\n",
      "Resampling from mesh 23\n",
      "Resampling from mesh 24\n",
      "Resampling from mesh 25\n",
      "Resampling from mesh 26\n",
      "Running alignment\n",
      "Alignment converged at 0.0009368941564440909\n",
      "Writing mean to Output/mean//0/906-R-femur-label.obj\n",
      "Now at template mesh 5\n",
      "Resampling from mesh 0\n",
      "Resampling from mesh 1\n",
      "Resampling from mesh 2\n",
      "Resampling from mesh 3\n",
      "Resampling from mesh 4\n",
      "Resampling from mesh 6\n",
      "Resampling from mesh 7\n",
      "Resampling from mesh 8\n",
      "Resampling from mesh 9\n",
      "Resampling from mesh 10\n",
      "Resampling from mesh 11\n",
      "Resampling from mesh 12\n",
      "Resampling from mesh 13\n",
      "Resampling from mesh 14\n",
      "Resampling from mesh 15\n",
      "Resampling from mesh 16\n",
      "Resampling from mesh 17\n",
      "Resampling from mesh 18\n",
      "Resampling from mesh 19\n",
      "Resampling from mesh 20\n",
      "Resampling from mesh 21\n",
      "Resampling from mesh 22\n",
      "Resampling from mesh 23\n",
      "Resampling from mesh 24\n",
      "Resampling from mesh 25\n",
      "Resampling from mesh 26\n",
      "Running alignment\n",
      "Alignment converged at 0.01771205656103327\n",
      "Writing mean to Output/mean//0/907-L-femur-label.obj\n",
      "Now at template mesh 6\n",
      "Resampling from mesh 0\n",
      "Resampling from mesh 1\n",
      "Resampling from mesh 2\n",
      "Resampling from mesh 3\n",
      "Resampling from mesh 4\n",
      "Resampling from mesh 5\n",
      "Resampling from mesh 7\n",
      "Resampling from mesh 8\n",
      "Resampling from mesh 9\n",
      "Resampling from mesh 10\n",
      "Resampling from mesh 11\n",
      "Resampling from mesh 12\n",
      "Resampling from mesh 13\n",
      "Resampling from mesh 14\n",
      "Resampling from mesh 15\n",
      "Resampling from mesh 16\n",
      "Resampling from mesh 17\n",
      "Resampling from mesh 18\n",
      "Resampling from mesh 19\n",
      "Resampling from mesh 20\n",
      "Resampling from mesh 21\n",
      "Resampling from mesh 22\n",
      "Resampling from mesh 23\n",
      "Resampling from mesh 24\n",
      "Resampling from mesh 25\n",
      "Resampling from mesh 26\n",
      "Running alignment\n",
      "Alignment converged at 0.0015883326966217473\n",
      "Writing mean to Output/mean//0/907-R-femur-label.obj\n",
      "Now at template mesh 7\n",
      "Resampling from mesh 0\n",
      "Resampling from mesh 1\n",
      "Resampling from mesh 2\n",
      "Resampling from mesh 3\n",
      "Resampling from mesh 4\n",
      "Resampling from mesh 5\n",
      "Resampling from mesh 6\n",
      "Resampling from mesh 8\n",
      "Resampling from mesh 9\n",
      "Resampling from mesh 10\n",
      "Resampling from mesh 11\n",
      "Resampling from mesh 12\n",
      "Resampling from mesh 13\n",
      "Resampling from mesh 14\n",
      "Resampling from mesh 15\n",
      "Resampling from mesh 16\n",
      "Resampling from mesh 17\n",
      "Resampling from mesh 18\n",
      "Resampling from mesh 19\n",
      "Resampling from mesh 20\n",
      "Resampling from mesh 21\n",
      "Resampling from mesh 22\n",
      "Resampling from mesh 23\n",
      "Resampling from mesh 24\n",
      "Resampling from mesh 25\n",
      "Resampling from mesh 26\n",
      "Running alignment\n",
      "Alignment converged at 0.0019276822157436202\n",
      "Writing mean to Output/mean//0/908-L-femur-label.obj\n",
      "Now at template mesh 8\n",
      "Resampling from mesh 0\n",
      "Resampling from mesh 1\n",
      "Resampling from mesh 2\n",
      "Resampling from mesh 3\n",
      "Resampling from mesh 4\n",
      "Resampling from mesh 5\n",
      "Resampling from mesh 6\n",
      "Resampling from mesh 7\n",
      "Resampling from mesh 9\n",
      "Resampling from mesh 10\n",
      "Resampling from mesh 11\n",
      "Resampling from mesh 12\n",
      "Resampling from mesh 13\n",
      "Resampling from mesh 14\n",
      "Resampling from mesh 15\n",
      "Resampling from mesh 16\n",
      "Resampling from mesh 17\n",
      "Resampling from mesh 18\n",
      "Resampling from mesh 19\n",
      "Resampling from mesh 20\n",
      "Resampling from mesh 21\n",
      "Resampling from mesh 22\n",
      "Resampling from mesh 23\n",
      "Resampling from mesh 24\n",
      "Resampling from mesh 25\n",
      "Resampling from mesh 26\n",
      "Running alignment\n",
      "Alignment converged at 0.0008468561680195561\n",
      "Writing mean to Output/mean//0/908-R-femur-label.obj\n",
      "Now at template mesh 9\n",
      "Resampling from mesh 0\n",
      "Resampling from mesh 1\n",
      "Resampling from mesh 2\n",
      "Resampling from mesh 3\n",
      "Resampling from mesh 4\n",
      "Resampling from mesh 5\n",
      "Resampling from mesh 6\n",
      "Resampling from mesh 7\n",
      "Resampling from mesh 8\n",
      "Resampling from mesh 10\n",
      "Resampling from mesh 11\n",
      "Resampling from mesh 12\n",
      "Resampling from mesh 13\n",
      "Resampling from mesh 14\n",
      "Resampling from mesh 15\n",
      "Resampling from mesh 16\n",
      "Resampling from mesh 17\n",
      "Resampling from mesh 18\n",
      "Resampling from mesh 19\n",
      "Resampling from mesh 20\n",
      "Resampling from mesh 21\n",
      "Resampling from mesh 22\n",
      "Resampling from mesh 23\n",
      "Resampling from mesh 24\n",
      "Resampling from mesh 25\n",
      "Resampling from mesh 26\n",
      "Running alignment\n",
      "Alignment converged at 0.0014259736570786917\n",
      "Writing mean to Output/mean//0/915-L-femur-label.obj\n",
      "Now at template mesh 10\n",
      "Resampling from mesh 0\n",
      "Resampling from mesh 1\n",
      "Resampling from mesh 2\n",
      "Resampling from mesh 3\n",
      "Resampling from mesh 4\n",
      "Resampling from mesh 5\n",
      "Resampling from mesh 6\n",
      "Resampling from mesh 7\n",
      "Resampling from mesh 8\n",
      "Resampling from mesh 9\n",
      "Resampling from mesh 11\n",
      "Resampling from mesh 12\n",
      "Resampling from mesh 13\n",
      "Resampling from mesh 14\n",
      "Resampling from mesh 15\n",
      "Resampling from mesh 16\n",
      "Resampling from mesh 17\n",
      "Resampling from mesh 18\n",
      "Resampling from mesh 19\n",
      "Resampling from mesh 20\n",
      "Resampling from mesh 21\n",
      "Resampling from mesh 22\n",
      "Resampling from mesh 23\n",
      "Resampling from mesh 24\n",
      "Resampling from mesh 25\n",
      "Resampling from mesh 26\n"
     ]
    },
    {
     "name": "stdout",
     "output_type": "stream",
     "text": [
      "Running alignment\n",
      "Alignment converged at 0.0007549640420944888\n",
      "Writing mean to Output/mean//0/915-R-femur-label.obj\n",
      "Now at template mesh 11\n",
      "Resampling from mesh 0\n",
      "Resampling from mesh 1\n",
      "Resampling from mesh 2\n",
      "Resampling from mesh 3\n",
      "Resampling from mesh 4\n",
      "Resampling from mesh 5\n",
      "Resampling from mesh 6\n",
      "Resampling from mesh 7\n",
      "Resampling from mesh 8\n",
      "Resampling from mesh 9\n",
      "Resampling from mesh 10\n",
      "Resampling from mesh 12\n",
      "Resampling from mesh 13\n",
      "Resampling from mesh 14\n",
      "Resampling from mesh 15\n",
      "Resampling from mesh 16\n",
      "Resampling from mesh 17\n",
      "Resampling from mesh 18\n",
      "Resampling from mesh 19\n",
      "Resampling from mesh 20\n",
      "Resampling from mesh 21\n",
      "Resampling from mesh 22\n",
      "Resampling from mesh 23\n",
      "Resampling from mesh 24\n",
      "Resampling from mesh 25\n",
      "Resampling from mesh 26\n",
      "Running alignment\n",
      "Alignment converged at 0.0008808021989129835\n",
      "Writing mean to Output/mean//0/916-L-femur-label.obj\n",
      "Now at template mesh 12\n",
      "Resampling from mesh 0\n",
      "Resampling from mesh 1\n",
      "Resampling from mesh 2\n",
      "Resampling from mesh 3\n",
      "Resampling from mesh 4\n",
      "Resampling from mesh 5\n",
      "Resampling from mesh 6\n",
      "Resampling from mesh 7\n",
      "Resampling from mesh 8\n",
      "Resampling from mesh 9\n",
      "Resampling from mesh 10\n",
      "Resampling from mesh 11\n",
      "Resampling from mesh 13\n",
      "Resampling from mesh 14\n",
      "Resampling from mesh 15\n",
      "Resampling from mesh 16\n",
      "Resampling from mesh 17\n",
      "Resampling from mesh 18\n",
      "Resampling from mesh 19\n",
      "Resampling from mesh 20\n",
      "Resampling from mesh 21\n",
      "Resampling from mesh 22\n",
      "Resampling from mesh 23\n",
      "Resampling from mesh 24\n",
      "Resampling from mesh 25\n",
      "Resampling from mesh 26\n",
      "Running alignment\n",
      "Alignment converged at 0.0004644934773637309\n",
      "Writing mean to Output/mean//0/916-R-femur-label.obj\n",
      "Now at template mesh 13\n",
      "Resampling from mesh 0\n",
      "Resampling from mesh 1\n",
      "Resampling from mesh 2\n",
      "Resampling from mesh 3\n",
      "Resampling from mesh 4\n",
      "Resampling from mesh 5\n",
      "Resampling from mesh 6\n",
      "Resampling from mesh 7\n",
      "Resampling from mesh 8\n",
      "Resampling from mesh 9\n",
      "Resampling from mesh 10\n",
      "Resampling from mesh 11\n",
      "Resampling from mesh 12\n",
      "Resampling from mesh 14\n",
      "Resampling from mesh 15\n",
      "Resampling from mesh 16\n",
      "Resampling from mesh 17\n",
      "Resampling from mesh 18\n",
      "Resampling from mesh 19\n",
      "Resampling from mesh 20\n",
      "Resampling from mesh 21\n",
      "Resampling from mesh 22\n",
      "Resampling from mesh 23\n",
      "Resampling from mesh 24\n",
      "Resampling from mesh 25\n",
      "Resampling from mesh 26\n",
      "Running alignment\n",
      "Alignment converged at 0.003948452450873146\n",
      "Writing mean to Output/mean//0/917-L-femur-label.obj\n",
      "Now at template mesh 14\n",
      "Resampling from mesh 0\n",
      "Resampling from mesh 1\n",
      "Resampling from mesh 2\n",
      "Resampling from mesh 3\n",
      "Resampling from mesh 4\n",
      "Resampling from mesh 5\n",
      "Resampling from mesh 6\n",
      "Resampling from mesh 7\n",
      "Resampling from mesh 8\n",
      "Resampling from mesh 9\n",
      "Resampling from mesh 10\n"
     ]
    },
    {
     "ename": "KeyboardInterrupt",
     "evalue": "",
     "output_type": "error",
     "traceback": [
      "\u001b[1;31m---------------------------------------------------------------------------\u001b[0m",
      "\u001b[1;31mKeyboardInterrupt\u001b[0m                         Traceback (most recent call last)",
      "\u001b[1;32m<ipython-input-29-28689507c5ee>\u001b[0m in \u001b[0;36m<module>\u001b[1;34m\u001b[0m\n\u001b[0;32m     12\u001b[0m             \u001b[1;32melse\u001b[0m\u001b[1;33m:\u001b[0m\u001b[1;33m\u001b[0m\u001b[1;33m\u001b[0m\u001b[0m\n\u001b[0;32m     13\u001b[0m                 \u001b[0mprint\u001b[0m\u001b[1;33m(\u001b[0m\u001b[1;34mf'Resampling from mesh {sample_index}'\u001b[0m\u001b[1;33m)\u001b[0m\u001b[1;33m\u001b[0m\u001b[1;33m\u001b[0m\u001b[0m\n\u001b[1;32m---> 14\u001b[1;33m                 \u001b[0mdeformed_template\u001b[0m \u001b[1;33m=\u001b[0m \u001b[0mregister_template_to_sample\u001b[0m\u001b[1;33m(\u001b[0m\u001b[0mtemplate_mesh\u001b[0m\u001b[1;33m,\u001b[0m \u001b[0mmeshes\u001b[0m\u001b[1;33m[\u001b[0m\u001b[0msample_index\u001b[0m\u001b[1;33m]\u001b[0m\u001b[1;33m)\u001b[0m\u001b[1;33m\u001b[0m\u001b[1;33m\u001b[0m\u001b[0m\n\u001b[0m\u001b[0;32m     15\u001b[0m                 \u001b[0mdeformed_templates\u001b[0m\u001b[1;33m.\u001b[0m\u001b[0mappend\u001b[0m\u001b[1;33m(\u001b[0m\u001b[0mdeformed_template\u001b[0m\u001b[1;33m)\u001b[0m\u001b[1;33m\u001b[0m\u001b[1;33m\u001b[0m\u001b[0m\n\u001b[0;32m     16\u001b[0m \u001b[1;33m\u001b[0m\u001b[0m\n",
      "\u001b[1;32m<ipython-input-23-2a81ba112558>\u001b[0m in \u001b[0;36mregister_template_to_sample\u001b[1;34m(template_mesh, sample_mesh, learning_rate, max_iterations)\u001b[0m\n\u001b[0;32m     15\u001b[0m \u001b[1;33m\u001b[0m\u001b[0m\n\u001b[0;32m     16\u001b[0m     \u001b[1;31m# Run registration and resample from target\u001b[0m\u001b[1;33m\u001b[0m\u001b[1;33m\u001b[0m\u001b[1;33m\u001b[0m\u001b[0m\n\u001b[1;32m---> 17\u001b[1;33m     (transform, deformed_mesh) = registrar.register(template_mesh=template_copy,\n\u001b[0m\u001b[0;32m     18\u001b[0m                                                     \u001b[0mtarget_mesh\u001b[0m\u001b[1;33m=\u001b[0m\u001b[0msample_mesh\u001b[0m\u001b[1;33m,\u001b[0m\u001b[1;33m\u001b[0m\u001b[1;33m\u001b[0m\u001b[0m\n\u001b[0;32m     19\u001b[0m                                                     \u001b[0mmetric\u001b[0m\u001b[1;33m=\u001b[0m\u001b[0mmetric\u001b[0m\u001b[1;33m,\u001b[0m\u001b[1;33m\u001b[0m\u001b[1;33m\u001b[0m\u001b[0m\n",
      "\u001b[1;32m~\\source\\repos\\HASI\\src\\hasi\\hasi\\pointsetentropyregistrar.py\u001b[0m in \u001b[0;36mregister\u001b[1;34m(self, template_mesh, template_point_set, target_mesh, target_point_set, filepath, verbose, metric, transform, resample_rate, max_iterations, learning_rate, resample_from_target)\u001b[0m\n\u001b[0;32m    143\u001b[0m \u001b[1;33m\u001b[0m\u001b[0m\n\u001b[0;32m    144\u001b[0m         \u001b[1;32mif\u001b[0m\u001b[1;33m(\u001b[0m\u001b[0mresample_from_target\u001b[0m\u001b[1;33m)\u001b[0m\u001b[1;33m:\u001b[0m\u001b[1;33m\u001b[0m\u001b[1;33m\u001b[0m\u001b[0m\n\u001b[1;32m--> 145\u001b[1;33m             \u001b[0mregistered_template_mesh\u001b[0m \u001b[1;33m=\u001b[0m \u001b[0mself\u001b[0m\u001b[1;33m.\u001b[0m\u001b[0mresample_template_from_target\u001b[0m\u001b[1;33m(\u001b[0m\u001b[0mregistered_template_mesh\u001b[0m\u001b[1;33m,\u001b[0m \u001b[0mtarget_mesh\u001b[0m\u001b[1;33m)\u001b[0m\u001b[1;33m\u001b[0m\u001b[1;33m\u001b[0m\u001b[0m\n\u001b[0m\u001b[0;32m    146\u001b[0m \u001b[1;33m\u001b[0m\u001b[0m\n\u001b[0;32m    147\u001b[0m         \u001b[1;31m# Write out\u001b[0m\u001b[1;33m\u001b[0m\u001b[1;33m\u001b[0m\u001b[1;33m\u001b[0m\u001b[0m\n",
      "\u001b[1;32m~\\source\\repos\\HASI\\src\\hasi\\hasi\\meshtomeshregistrar.py\u001b[0m in \u001b[0;36mresample_template_from_target\u001b[1;34m(template_mesh, target_mesh)\u001b[0m\n\u001b[0;32m    119\u001b[0m \u001b[1;33m\u001b[0m\u001b[0m\n\u001b[0;32m    120\u001b[0m         \u001b[1;32mfor\u001b[0m \u001b[0mi\u001b[0m \u001b[1;32min\u001b[0m \u001b[0mrange\u001b[0m\u001b[1;33m(\u001b[0m\u001b[0mtemplate_mesh\u001b[0m\u001b[1;33m.\u001b[0m\u001b[0mGetNumberOfPoints\u001b[0m\u001b[1;33m(\u001b[0m\u001b[1;33m)\u001b[0m\u001b[1;33m)\u001b[0m\u001b[1;33m:\u001b[0m\u001b[1;33m\u001b[0m\u001b[1;33m\u001b[0m\u001b[0m\n\u001b[1;32m--> 121\u001b[1;33m             \u001b[0mpt\u001b[0m \u001b[1;33m=\u001b[0m \u001b[0mtemplate_mesh\u001b[0m\u001b[1;33m.\u001b[0m\u001b[0mGetPoint\u001b[0m\u001b[1;33m(\u001b[0m\u001b[0mi\u001b[0m\u001b[1;33m)\u001b[0m\u001b[1;33m\u001b[0m\u001b[1;33m\u001b[0m\u001b[0m\n\u001b[0m\u001b[0;32m    122\u001b[0m             \u001b[0mind\u001b[0m \u001b[1;33m=\u001b[0m \u001b[0mloc\u001b[0m\u001b[1;33m.\u001b[0m\u001b[0mFindClosestPoint\u001b[0m\u001b[1;33m(\u001b[0m\u001b[0mpt\u001b[0m\u001b[1;33m)\u001b[0m\u001b[1;33m\u001b[0m\u001b[1;33m\u001b[0m\u001b[0m\n\u001b[0;32m    123\u001b[0m             \u001b[0mwarped_pts\u001b[0m\u001b[1;33m.\u001b[0m\u001b[0mSetPoint\u001b[0m\u001b[1;33m(\u001b[0m\u001b[0mi\u001b[0m\u001b[1;33m,\u001b[0m \u001b[0mtarget_pts\u001b[0m\u001b[1;33m.\u001b[0m\u001b[0mGetPoint\u001b[0m\u001b[1;33m(\u001b[0m\u001b[0mind\u001b[0m\u001b[1;33m)\u001b[0m\u001b[1;33m)\u001b[0m\u001b[1;33m\u001b[0m\u001b[1;33m\u001b[0m\u001b[0m\n",
      "\u001b[1;31mKeyboardInterrupt\u001b[0m: "
     ]
    }
   ],
   "source": [
    "for iteration in range(0,NUM_ITERATIONS):\n",
    "    print(f'Now at iteration {iteration}')\n",
    "    \n",
    "    for template_mesh_index in range(0,len(meshes)):\n",
    "        print(f'Now at template mesh {template_mesh_index}')\n",
    "        template_mesh = meshes[template_mesh_index]\n",
    "\n",
    "        deformed_templates = list()\n",
    "        for sample_index in range(0,len(meshes)):\n",
    "            if sample_index == template_mesh_index:\n",
    "                deformed_templates.append(template_mesh)\n",
    "            else:\n",
    "                print(f'Resampling from mesh {sample_index}')\n",
    "                deformed_template = register_template_to_sample(template_mesh, meshes[sample_index])\n",
    "                deformed_templates.append(deformed_template)\n",
    "\n",
    "        print('Running alignment')\n",
    "        mesh_result = align_procrustes(deformed_templates, template_mesh_index, verbose=True)\n",
    "\n",
    "        # Save intermediate results to disk\n",
    "        # These meshes are very small so this is not a significant expense (~400 KB/mesh)\n",
    "        output_path = f'{MEAN_OUTPUT_FOLDER}/{iteration}/{MESH_FILENAMES[template_mesh_index]}'\n",
    "        print(f'Writing mean to {output_path}')\n",
    "        itk.meshwrite(mesh_result, output_path)\n",
    "        \n",
    "        # Optionally update current mesh in place for use in subsequent alignments\n",
    "        if UPDATE_IN_PLACE:\n",
    "            meshes[template_mesh_index] = mesh_result\n",
    "        else:\n",
    "            aligned_templates.append(mesh_result)\n",
    "    \n",
    "    # Optionally update templates only between iterations\n",
    "    if not UPDATE_CONTINUOUSLY:\n",
    "        meshes = aligned_templates"
   ]
  },
  {
   "cell_type": "code",
   "execution_count": null,
   "metadata": {},
   "outputs": [],
   "source": [
    "# FIXME visualize template\n",
    "# view(geometries=[meshes])"
   ]
  }
 ],
 "metadata": {
  "kernelspec": {
   "display_name": "Python (dev)",
   "language": "python",
   "name": "venv-itkdev"
  },
  "language_info": {
   "codemirror_mode": {
    "name": "ipython",
    "version": 3
   },
   "file_extension": ".py",
   "mimetype": "text/x-python",
   "name": "python",
   "nbconvert_exporter": "python",
   "pygments_lexer": "ipython3",
   "version": "3.8.8"
  }
 },
 "nbformat": 4,
 "nbformat_minor": 4
}
