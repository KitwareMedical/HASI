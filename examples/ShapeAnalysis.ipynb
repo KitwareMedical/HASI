{
 "cells": [
  {
   "cell_type": "markdown",
   "metadata": {},
   "source": [
    "# Shape Analysis\n",
    "\n",
    "After finding atlas correspondence points across a shape population we can find insights into how shape informs other metrics and classes. In this example we train a Distance-Weighted Discrimination (DWD) classifier to predict whether a given mouse femur is healthy/unhealthy based on its shape features.\n",
    "\n",
    "DWD classification is designed to work with High-Dimensional Low Sample Size (HDLSS) data where the number of features for a given sample significantly outnumbers the total number of samples in the data set. In this case we have 28 mouse femur samples, each of which is represented by approximately 4000 points in three-dimensional space. We use DWD to get a hyperplane separating the feature space for healthy and unhealthy femur classes and analyze prediction accuracy and distance to the hyperplane in order to assess performance.\n",
    "\n",
    "This notebook assumes that a population of shapes in correspondence is available for training the DWD classifier. See the `TemplateGenerationIterative` notebook for a procedure to create a representative atlas from a shape population and the `MeshToMeshRegistration` notebook for examples of getting correspondence points on individual samples with the generated atlas."
   ]
  },
  {
   "cell_type": "code",
   "execution_count": null,
   "metadata": {
    "scrolled": true
   },
   "outputs": [],
   "source": [
    "import sys\n",
    "!{sys.executable} -m pip install itk dwd sklearn seaborn matplotlib pandas"
   ]
  },
  {
   "cell_type": "code",
   "execution_count": 2,
   "metadata": {},
   "outputs": [],
   "source": [
    "import os\n",
    "import glob\n",
    "\n",
    "from dwd.dwd import DWD\n",
    "import itk\n",
    "import numpy as np\n",
    "import sklearn.model_selection\n",
    "import pandas as pd\n",
    "\n",
    "module_path = os.path.abspath(os.path.join('..'))\n",
    "\n",
    "if module_path not in sys.path:\n",
    "    sys.path.append(module_path)\n",
    "\n",
    "from src.hasi.hasi import classify"
   ]
  },
  {
   "cell_type": "markdown",
   "metadata": {},
   "source": [
    "### Load Correspondence Meshes"
   ]
  },
  {
   "cell_type": "code",
   "execution_count": 3,
   "metadata": {},
   "outputs": [
    {
     "name": "stdout",
     "output_type": "stream",
     "text": [
      "28\n"
     ]
    }
   ],
   "source": [
    "CORRESPONDENCE_INPUT = 'Output/correspondence/'\n",
    "\n",
    "paths = glob.glob(CORRESPONDENCE_INPUT+'*')\n",
    "print(len(paths))"
   ]
  },
  {
   "cell_type": "code",
   "execution_count": 4,
   "metadata": {},
   "outputs": [
    {
     "name": "stdout",
     "output_type": "stream",
     "text": [
      "28 shapes found\n",
      "14 healthy samples, 14 unhealthy samples\n",
      "Meshes each have 3817 points\n"
     ]
    }
   ],
   "source": [
    "meshes = [itk.meshread(path, itk.F) for path in paths]\n",
    "\n",
    "# Get femur class from filename: right femurs are healthy, left feurs are unhealthy\n",
    "labels = np.array(['Healthy' if '-R' in path else 'Unhealthy' for path in paths])\n",
    "\n",
    "\n",
    "print(f'{len(meshes)} shapes found')\n",
    "print(f'{len(labels[labels == \"Healthy\"])} healthy samples, '\n",
    "      f'{len(labels[labels == \"Unhealthy\"])} unhealthy samples')\n",
    "\n",
    "assert(not any(mesh.GetNumberOfPoints() != meshes[0].GetNumberOfPoints()\n",
    "              for mesh in meshes[1:]))\n",
    "print(f'Meshes each have {meshes[0].GetNumberOfPoints()} points')"
   ]
  },
  {
   "cell_type": "markdown",
   "metadata": {},
   "source": [
    "### Prepare Data\n",
    "\n",
    "DWD expects input of size `n x d` where `n` = number of samples and `d` = number of features. We can generate the shape features for a given mesh by flattening the list of 3D points to one dimension, however for our given population this exceeds DWD's memory availability. For this example we use a step size of 10 to select every tenth point for inclusion in the feature array, leading to a feature length of (int(3817 / 10) * 3) ~= 1146 for each sample."
   ]
  },
  {
   "cell_type": "code",
   "execution_count": 5,
   "metadata": {},
   "outputs": [
    {
     "name": "stdout",
     "output_type": "stream",
     "text": [
      "(28, 1146)\n"
     ]
    }
   ],
   "source": [
    "features = classify.make_point_features(meshes, step=10)\n",
    "print(features.shape)"
   ]
  },
  {
   "cell_type": "markdown",
   "metadata": {},
   "source": [
    "We use `sklearn` to split the data set into samples for training and testing."
   ]
  },
  {
   "cell_type": "code",
   "execution_count": 6,
   "metadata": {},
   "outputs": [],
   "source": [
    "X_train, X_test, y_train, y_test = sklearn.model_selection.train_test_split(features,labels, train_size=0.6, random_state=73)"
   ]
  },
  {
   "cell_type": "code",
   "execution_count": 7,
   "metadata": {},
   "outputs": [
    {
     "name": "stdout",
     "output_type": "stream",
     "text": [
      "(16, 1146)\n",
      "(16,)\n",
      "(12, 1146)\n",
      "(12,)\n"
     ]
    }
   ],
   "source": [
    "print(X_train.shape)\n",
    "print(y_train.shape)\n",
    "print(X_test.shape)\n",
    "print(y_test.shape)"
   ]
  },
  {
   "cell_type": "markdown",
   "metadata": {},
   "source": [
    "### Train Classifier\n",
    "\n",
    "Here we fit the DWD classifier to the training set and then verify with the testing set."
   ]
  },
  {
   "cell_type": "code",
   "execution_count": 8,
   "metadata": {},
   "outputs": [
    {
     "data": {
      "text/plain": [
       "DWD(C=9.989272474981702)"
      ]
     },
     "execution_count": 8,
     "metadata": {},
     "output_type": "execute_result"
    }
   ],
   "source": [
    "classifier = DWD(C='auto')\n",
    "classifier.fit(X_train,np.squeeze(y_train))"
   ]
  },
  {
   "cell_type": "code",
   "execution_count": 9,
   "metadata": {},
   "outputs": [
    {
     "name": "stdout",
     "output_type": "stream",
     "text": [
      "83.33% correct\n",
      "[ True  True  True False False  True  True  True  True  True  True  True]\n"
     ]
    }
   ],
   "source": [
    "predict = classifier.predict(X_test)\n",
    "correct = np.squeeze(predict) == y_test\n",
    "\n",
    "print(f'{float(sum(correct) / len(correct)):0.2%} correct')\n",
    "print(correct)"
   ]
  },
  {
   "cell_type": "code",
   "execution_count": 10,
   "metadata": {},
   "outputs": [
    {
     "name": "stdout",
     "output_type": "stream",
     "text": [
      "[ 0.51246972  1.37529028 -0.88142607  1.36234602 -0.78152306 -1.09616038\n",
      " -0.1393085   0.32118888 -0.90293256 -0.69205907 -1.07170148 -0.70416412]\n"
     ]
    }
   ],
   "source": [
    "# Print distances to separating hyperplane\n",
    "print(classify.get_distances(classifier, X_test))"
   ]
  },
  {
   "cell_type": "markdown",
   "metadata": {},
   "source": [
    "### Visualize Results\n",
    "\n",
    "We can examine the fitness of the hyperplane by comparing the distance to the hyperplane for each test sample."
   ]
  },
  {
   "cell_type": "code",
   "execution_count": 11,
   "metadata": {},
   "outputs": [
    {
     "data": {
      "image/png": "[encoded data removed]",
      "text/plain": [
       "<Figure size 432x288 with 1 Axes>"
      ]
     },
     "metadata": {
      "needs_background": "light"
     },
     "output_type": "display_data"
    }
   ],
   "source": [
    "# Density plot\n",
    "test_distances = classify.get_distances(classifier, X_test)\n",
    "classify.densityplot(test_distances, np.squeeze(y_test))"
   ]
  },
  {
   "cell_type": "code",
   "execution_count": 12,
   "metadata": {},
   "outputs": [
    {
     "data": {
      "text/html": [
       "<div>\n",
       "<style scoped>\n",
       "    .dataframe tbody tr th:only-of-type {\n",
       "        vertical-align: middle;\n",
       "    }\n",
       "\n",
       "    .dataframe tbody tr th {\n",
       "        vertical-align: top;\n",
       "    }\n",
       "\n",
       "    .dataframe thead th {\n",
       "        text-align: right;\n",
       "    }\n",
       "</style>\n",
       "<table border=\"1\" class=\"dataframe\">\n",
       "  <thead>\n",
       "    <tr style=\"text-align: right;\">\n",
       "      <th></th>\n",
       "      <th>Distance</th>\n",
       "      <th>Label</th>\n",
       "    </tr>\n",
       "  </thead>\n",
       "  <tbody>\n",
       "    <tr>\n",
       "      <th>0</th>\n",
       "      <td>0.512470</td>\n",
       "      <td>Unhealthy</td>\n",
       "    </tr>\n",
       "    <tr>\n",
       "      <th>1</th>\n",
       "      <td>1.375290</td>\n",
       "      <td>Unhealthy</td>\n",
       "    </tr>\n",
       "    <tr>\n",
       "      <th>2</th>\n",
       "      <td>-0.881426</td>\n",
       "      <td>Healthy</td>\n",
       "    </tr>\n",
       "    <tr>\n",
       "      <th>3</th>\n",
       "      <td>1.362346</td>\n",
       "      <td>Healthy</td>\n",
       "    </tr>\n",
       "    <tr>\n",
       "      <th>4</th>\n",
       "      <td>-0.781523</td>\n",
       "      <td>Unhealthy</td>\n",
       "    </tr>\n",
       "  </tbody>\n",
       "</table>\n",
       "</div>"
      ],
      "text/plain": [
       "   Distance      Label\n",
       "0  0.512470  Unhealthy\n",
       "1  1.375290  Unhealthy\n",
       "2 -0.881426    Healthy\n",
       "3  1.362346    Healthy\n",
       "4 -0.781523  Unhealthy"
      ]
     },
     "execution_count": 12,
     "metadata": {},
     "output_type": "execute_result"
    }
   ],
   "source": [
    "X = pd.DataFrame(test_distances, columns=['Distance'])\n",
    "y = pd.DataFrame(y_test, columns=['Label'])\n",
    "X['Label'] = y\n",
    "\n",
    "X.head()"
   ]
  },
  {
   "cell_type": "code",
   "execution_count": 13,
   "metadata": {},
   "outputs": [
    {
     "data": {
      "image/png": "[encoded data removed]",
      "text/plain": [
       "<Figure size 576x144 with 2 Axes>"
      ]
     },
     "metadata": {
      "needs_background": "light"
     },
     "output_type": "display_data"
    }
   ],
   "source": [
    "# Ridge plots\n",
    "classify.density_by(X,'Label')"
   ]
  }
 ],
 "metadata": {
  "kernelspec": {
   "display_name": "Python 3",
   "language": "python",
   "name": "python3"
  },
  "language_info": {
   "codemirror_mode": {
    "name": "ipython",
    "version": 3
   },
   "file_extension": ".py",
   "mimetype": "text/x-python",
   "name": "python",
   "nbconvert_exporter": "python",
   "pygments_lexer": "ipython3",
   "version": "3.8.5"
  }
 },
 "nbformat": 4,
 "nbformat_minor": 5
}
